{
  "nbformat": 4,
  "nbformat_minor": 0,
  "metadata": {
    "colab": {
      "name": "IS_HW3_Q2.ipynb",
      "provenance": []
    },
    "kernelspec": {
      "name": "python3",
      "display_name": "Python 3"
    },
    "accelerator": "GPU"
  },
  "cells": [
    {
      "cell_type": "markdown",
      "metadata": {
        "id": "7CVeiIgCJQwr"
      },
      "source": [
        "#Hamidreza Aliakbary khoyi\r\n",
        "##810196514\r\n",
        "###Question 2"
      ]
    },
    {
      "cell_type": "code",
      "metadata": {
        "id": "Bgpnz0TOTgoB"
      },
      "source": [
        "import pandas as pd\n",
        "import numpy as np\n",
        "import numpy.matlib\n",
        "import math \n",
        "from numpy import linalg as LA\n",
        "from matplotlib import pyplot as plt"
      ],
      "execution_count": 1,
      "outputs": []
    },
    {
      "cell_type": "code",
      "metadata": {
        "colab": {
          "base_uri": "https://localhost:8080/"
        },
        "id": "JjmISOwrDVD8",
        "outputId": "763ae69d-b624-4199-e6a3-3870fbe83cb0"
      },
      "source": [
        "from google.colab import drive\n",
        "drive.mount('/content/drive')"
      ],
      "execution_count": 2,
      "outputs": [
        {
          "output_type": "stream",
          "text": [
            "Mounted at /content/drive\n"
          ],
          "name": "stdout"
        }
      ]
    },
    {
      "cell_type": "code",
      "metadata": {
        "id": "LTVvJmnXENVo"
      },
      "source": [
        "train_data = pd.read_csv('/content/drive/My Drive/IS/IS_HW3/Reduced_Train_Data.csv', header = None)\n",
        "test_data = pd.read_csv('/content/drive/My Drive/IS/IS_HW3/Reduced_Test_Data.csv', header = None)\n",
        "train_labels = pd.read_csv('/content/drive/My Drive/IS/IS_HW3/trainLabels.csv', header = None)\n",
        "test_labels = pd.read_csv('/content/drive/My Drive/IS/IS_HW3/testLabels.csv', header = None)"
      ],
      "execution_count": 3,
      "outputs": []
    },
    {
      "cell_type": "markdown",
      "metadata": {
        "id": "Cr7QLPkxJOx2"
      },
      "source": [
        ""
      ]
    },
    {
      "cell_type": "code",
      "metadata": {
        "colab": {
          "base_uri": "https://localhost:8080/"
        },
        "id": "Uc2JlpLfWwTo",
        "outputId": "e0e35915-262e-4b45-a6c7-73369c9a7b3a"
      },
      "source": [
        "train_labels.iloc[:,0].unique()\n",
        "\n"
      ],
      "execution_count": 4,
      "outputs": [
        {
          "output_type": "execute_result",
          "data": {
            "text/plain": [
              "array([9, 0, 3, 2, 7, 5, 1, 6, 4, 8])"
            ]
          },
          "metadata": {
            "tags": []
          },
          "execution_count": 4
        }
      ]
    },
    {
      "cell_type": "markdown",
      "metadata": {
        "id": "RkQnRQMIJbkO"
      },
      "source": [
        "I used OOP to build model total elements including layers activation functions,... . here below you can see layer class that i implement it to set a layer of nodes . it's attributes are weights learning rate and weights and there is a flag that shows whether this layer is input layer or not. two main methods of this class is back propagation and forward part. we will set biases to just get learning of model ."
      ]
    },
    {
      "cell_type": "code",
      "metadata": {
        "id": "prwBXVTcOXdG"
      },
      "source": [
        "class layer :\n",
        "\n",
        "    def __init__ ( self , n_inputs , n_neurons , lambdaa = 0.1, is_input = 0):\n",
        "        self.weights = 0.0001 * np.random.randn(n_inputs, n_neurons)\n",
        "        self.biases = np.zeros(( 1 , n_neurons))\n",
        "        self.lambdaa = lambdaa\n",
        "        self.is_input = is_input\n",
        "\n",
        "    def forward ( self , inputs ):\n",
        "        self.inputs = inputs\n",
        "        if self.is_input :\n",
        "            self.output = self.inputs\n",
        "        else:\n",
        "            self.output = np.dot(inputs, self.weights) + self.biases\n",
        "\n",
        "    def backward ( self , dvalues ):\n",
        "        self.dweights = np.dot(self.inputs.T, dvalues)\n",
        "        self.dbiases = np.sum(dvalues, axis = 0 , keepdims = True )\n",
        "        self.dweights += 2 * self.lambdaa * self.weights\n",
        "        self.dbiases += 2 * self.lambdaa * self.biases\n",
        "        self.dinputs = np.dot(dvalues, self.weights.T)\n",
        "            "
      ],
      "execution_count": 5,
      "outputs": []
    },
    {
      "cell_type": "markdown",
      "metadata": {
        "id": "AEYf6buxKGED"
      },
      "source": [
        "Testing layer:"
      ]
    },
    {
      "cell_type": "code",
      "metadata": {
        "colab": {
          "base_uri": "https://localhost:8080/"
        },
        "id": "5lp4g5Cz-3nu",
        "outputId": "e7656d42-61cd-471b-90a3-838ebb9d8d15"
      },
      "source": [
        "temp = 1000000*np.random.randn(13,2)\n",
        "dense = layer(2,3)\n",
        "dense.forward(temp)\n",
        "hidd = layer(3,3)\n",
        "hidd.forward( dense.output )\n",
        "last = layer(3,2)\n",
        "last.forward( hidd.output )\n",
        "print(last.output)\n",
        "print(temp)\n"
      ],
      "execution_count": 6,
      "outputs": [
        {
          "output_type": "stream",
          "text": [
            "[[-3.20872079e-06 -7.66527433e-06]\n",
            " [ 8.11176840e-08  7.77872517e-07]\n",
            " [ 7.68882785e-07  3.27445976e-06]\n",
            " [ 1.49211859e-06  2.82277664e-06]\n",
            " [ 1.35884177e-06  3.12320488e-06]\n",
            " [-2.47268211e-06 -5.37650869e-06]\n",
            " [ 5.87648088e-07  8.37286017e-07]\n",
            " [ 6.29086623e-07  1.39265493e-06]\n",
            " [-5.57082005e-07  6.56315762e-08]\n",
            " [ 1.06987114e-06  1.34351634e-06]\n",
            " [-1.19130498e-07 -7.57661013e-07]\n",
            " [-6.66803827e-07 -1.95334310e-06]\n",
            " [ 1.82622493e-06  5.41886102e-06]]\n",
            "[[-2355552.36888012  -944650.17435847]\n",
            " [  274206.26619526  -760787.41974347]\n",
            " [ 1092801.71942829 -1705026.38216662]\n",
            " [  822789.27259322  1435717.7160333 ]\n",
            " [  952366.36079523   565169.28244569]\n",
            " [-1620275.30278321 -1440568.65237253]\n",
            " [  223191.51530817   934093.2001819 ]\n",
            " [  421333.09878935   333195.95887236]\n",
            " [  104239.90916254 -2039980.45390858]\n",
            " [  339880.44186633  1943555.9942967 ]\n",
            " [ -261311.39135161   600452.32649154]\n",
            " [ -621964.74087484   287885.33617447]\n",
            " [ 1728813.95328009  -881276.29631416]]\n"
          ],
          "name": "stdout"
        }
      ]
    },
    {
      "cell_type": "markdown",
      "metadata": {
        "id": "IhkjlHBvKJPc"
      },
      "source": [
        "This class will illustrate as usage of activation functions. there will be 3 kind of activation functions here including Sigmoid and Relu and Tanh. eaxh are impelemnted below and all 3 kind are sperated with if consition in 2 main methods of forward an backward.\r\n"
      ]
    },
    {
      "cell_type": "code",
      "metadata": {
        "id": "jvnQ2Os1TCVY"
      },
      "source": [
        "class activation :\n",
        "\n",
        "    def __init__ ( self , mode ):\n",
        "        self.mode = mode\n",
        "        self.inputs = 0\n",
        "        self.dinputs = 0\n",
        "        self.output = 0\n",
        "\n",
        "    def forward ( self , inputs ):\n",
        "        self.inputs = inputs\n",
        "        if self.mode == 'Relu' :\n",
        "            self.output = np.maximum( 0 , inputs)\n",
        "        elif self.mode == 'Sigmoid' :\n",
        "            self.output = 1 / ( 1 + np.exp( - self.inputs))\n",
        "        elif self.mode == 'Tanh' :\n",
        "            self.output = ( 2/(1 + np.exp( -2*self.inputs ))) + 1\n",
        "\n",
        "\n",
        "    def backward ( self , dvalues ):\n",
        "        if self.mode == 'Relu' :\n",
        "            self.dinputs = dvalues.copy()\n",
        "            self.dinputs[self.inputs <= 0 ] = 0\n",
        "        elif self.mode == 'Sigmoid' :\n",
        "            self.dinputs = dvalues * ( 1 - self.output) * self.output\n",
        "        elif self.mode == 'Tanh' :\n",
        "            self.dinputs = 1 - (( 2/(1 + np.exp( -2*self.output ))) + 1)**2"
      ],
      "execution_count": 7,
      "outputs": []
    },
    {
      "cell_type": "markdown",
      "metadata": {
        "id": "Xxp1KHe1PlPU"
      },
      "source": [
        "Testing activation functions:"
      ]
    },
    {
      "cell_type": "code",
      "metadata": {
        "colab": {
          "base_uri": "https://localhost:8080/"
        },
        "id": "Me_y7q19BCS0",
        "outputId": "10d0c570-9aa7-48e6-dbac-d70ba1d8181b"
      },
      "source": [
        "temp = np.random.randn(2,3)\n",
        "print(temp)\n",
        "relu = activation('Tanh')\n",
        "relu.forward(temp)\n",
        "print(relu.output)\n",
        "relu.backward(temp)\n",
        "print(relu.inputs)\n",
        "print(relu.dinputs)"
      ],
      "execution_count": 8,
      "outputs": [
        {
          "output_type": "stream",
          "text": [
            "[[-0.40619272 -1.34376028 -0.00221861]\n",
            " [-0.70291945 -1.07964596 -0.92004639]]\n",
            "[[1.61476481 1.12742754 1.99778139]\n",
            " [1.3937824  1.20693223 1.27408064]]\n",
            "[[-0.40619272 -1.34376028 -0.00221861]\n",
            " [-0.70291945 -1.07964596 -0.92004639]]\n",
            "[[-7.54896351 -6.89686998 -7.78452833]\n",
            " [-7.3174576  -7.04151715 -7.15045276]]\n"
          ],
          "name": "stdout"
        }
      ]
    },
    {
      "cell_type": "markdown",
      "metadata": {
        "id": "H6zzXvQnKvBA"
      },
      "source": [
        "We need an optimizer to just get to a global minimum , here we used SGD as desired optimizer. this implementation is as same as project one."
      ]
    },
    {
      "cell_type": "code",
      "metadata": {
        "id": "UKaiyR_1R9Zz"
      },
      "source": [
        "class SGD :\n",
        "\n",
        "    def __init__ ( self , learning_rate = 1. , decay = 0.1 ):\n",
        "\n",
        "        self.learning_rate = learning_rate\n",
        "        self.decay = decay\n",
        "        self.iterations = 1\n",
        "\n",
        "    def update_params ( self , layer ):\n",
        "        weight_updates = - self.learning_rate * layer.dweights\n",
        "        bias_updates = - self.learning_rate * layer.dbiases\n",
        "        layer.weights += weight_updates\n",
        "        layer.biases += bias_updates\n",
        "    def increment(self):\n",
        "        self.iterations += 1\n",
        "        self.learning_rate = self.learning_rate * ( 1. / ( 1. + self.decay * self.iterations))"
      ],
      "execution_count": 9,
      "outputs": []
    },
    {
      "cell_type": "markdown",
      "metadata": {
        "id": "5Alr3rZ5Poci"
      },
      "source": [
        "here we use Mean Squared error loss to calculate loss of our model for each layer and update parameters based on this. this class has 2 main methods as backward and forward. this class places after last activation function of last layer and then with this class we start Backpropagation process. it has a methos of calculate loss for depicting result.\n"
      ]
    },
    {
      "cell_type": "code",
      "metadata": {
        "id": "o5hQXwRwTDYX"
      },
      "source": [
        "class Loss_MSE :\n",
        "\n",
        "    def __init__ ( self ):\n",
        "        pass\n",
        "        \n",
        "    def forward ( self , y_pred , y_true ):\n",
        "        sample_losses = np.mean((y_true - y_pred) ** 2 , axis =- 1 )\n",
        "        return sample_losses\n",
        "\n",
        "    def backward ( self , dvalues , y_true ):\n",
        "        samples = len (dvalues)\n",
        "        outputs = len (dvalues[ 0 ])\n",
        "        self.dinputs = - 2 * (y_true - dvalues) / outputs\n",
        "        self.dinputs = self.dinputs / samples\n",
        "\n",
        "    def calculate_loss ( self , layers , output , y ):\n",
        "        regularization_loss = 0\n",
        "        for layer in layers:\n",
        "            regularization_loss += layer.lambdaa * np.sum(layer.weights * layer.weights)\n",
        "            regularization_loss += layer.lambdaa * np.sum(layer.biases * layer.biases)\n",
        "        sample_losses = self.forward(output, y)\n",
        "        data_loss = np.mean(sample_losses)\n",
        "        return data_loss "
      ],
      "execution_count": 10,
      "outputs": []
    },
    {
      "cell_type": "markdown",
      "metadata": {
        "id": "W1i-vi0KPq82"
      },
      "source": [
        "Testing"
      ]
    },
    {
      "cell_type": "code",
      "metadata": {
        "colab": {
          "base_uri": "https://localhost:8080/"
        },
        "id": "yyeVit9wI8uh",
        "outputId": "c2ea075d-b225-4006-8467-a08f90aad325"
      },
      "source": [
        "mse = Loss_MSE()\n",
        "mse.forward(np.array([0,0,0,1,1,10,1,0,1]), np.array([1,88,1,0,1,0,1,0,1]))"
      ],
      "execution_count": 11,
      "outputs": [
        {
          "output_type": "execute_result",
          "data": {
            "text/plain": [
              "871.8888888888889"
            ]
          },
          "metadata": {
            "tags": []
          },
          "execution_count": 11
        }
      ]
    },
    {
      "cell_type": "markdown",
      "metadata": {
        "id": "HOXUMR7PLlcC"
      },
      "source": [
        "drop out layer is a layer that places between layers to just cancel weghts of randomlly selected nodes with binomial distribution. it is simple and has 2 methods of forward ad back ward. we will generate a tesor of 0s and 1s as large as inputs of layer and then set 0 and one based on dropout rate and binomial sitribuiton with just getting it's samples."
      ]
    },
    {
      "cell_type": "code",
      "metadata": {
        "id": "YE6An1bFXldP"
      },
      "source": [
        "class drop_out_layer :\n",
        "\n",
        "    def __init__ ( self , rate ):\n",
        "        self.rate = rate\n",
        "\n",
        "    def forward ( self , inputs ):\n",
        "        self.inputs = inputs\n",
        "        self.chosen = np.random.binomial( 1 , self.rate, size = inputs.shape) / self.rate\n",
        "        self.output = inputs * self.chosen\n",
        "\n",
        "    def backward ( self , dvalues ):\n",
        "        self.dinputs = dvalues * self.chosen"
      ],
      "execution_count": 12,
      "outputs": []
    },
    {
      "cell_type": "markdown",
      "metadata": {
        "id": "aHaonUglMVcL"
      },
      "source": [
        "Testing Drop out layer and as you can see it cancels impact of randomly chosen weights."
      ]
    },
    {
      "cell_type": "code",
      "metadata": {
        "colab": {
          "base_uri": "https://localhost:8080/"
        },
        "id": "b5tMNHSDbxpk",
        "outputId": "27c8e573-f5ae-471e-8034-db31f43c3bc7"
      },
      "source": [
        "drop = drop_out_layer(0.5)\n",
        "temp = np.random.randn(2,4)\n",
        "print(temp)\n",
        "drop.forward(temp)\n",
        "print(drop.output)\n",
        "print(drop.chosen)\n"
      ],
      "execution_count": 13,
      "outputs": [
        {
          "output_type": "stream",
          "text": [
            "[[ 2.36387881  1.27771024 -0.85241369  0.74830405]\n",
            " [-1.2408946  -0.87985115 -0.95869397  1.35177249]]\n",
            "[[ 4.72775762  2.55542048 -0.          1.4966081 ]\n",
            " [-2.4817892  -1.7597023  -1.91738795  0.        ]]\n",
            "[[2. 2. 0. 2.]\n",
            " [2. 2. 2. 0.]]\n"
          ],
          "name": "stdout"
        }
      ]
    },
    {
      "cell_type": "markdown",
      "metadata": {
        "id": "kMdmmpEXMiF-"
      },
      "source": [
        "NN is a giant function that gather all of classes to getheer to build a one hidden-layered neural network with two main modes of either having a dropout mode or not."
      ]
    },
    {
      "cell_type": "markdown",
      "metadata": {
        "id": "W4VkcvQZM0Bq"
      },
      "source": [
        "First, i just standardize inputs . and then because we use SGD as optimizer i use to shuffle data to just get a better training way. all layers except input layer will have activation function. hidden layer will have desired activation function, though it can be wether Relu or Tanh or Sigmoid. output layer will have sigmoid activation function . if we have Dropout layer we place it befor hidden layer for cancelling some wights to get through dropout feature."
      ]
    },
    {
      "cell_type": "markdown",
      "metadata": {
        "id": "iJ61ZDqgNjqu"
      },
      "source": [
        "Second, we should train our model with respect to dropout mode status and for range of epochs. in each epoch, first we do all forwardings and the do backwards. after this we will update weights all with derivatives that backpropagates from next layers."
      ]
    },
    {
      "cell_type": "markdown",
      "metadata": {
        "id": "Naes2yQ7OIba"
      },
      "source": [
        "Third, i calculate accuracy of model with getting output of last layer activation function and set a threshold and calculate label. "
      ]
    },
    {
      "cell_type": "code",
      "metadata": {
        "id": "A2S__bt7Pr6_"
      },
      "source": [
        "def NN(traindata, trainlabel, is_dropout, activation_mode, lambdaa, decay , hidden_nodes, epoches, print_every):\n",
        "    traindata = traindata.to_numpy()\n",
        "    n_label = len(trainlabel.iloc[:,0].unique())\n",
        "    trainlabel = trainlabel.to_numpy()\n",
        "    traindata = (traindata - np.min(traindata) )/ (np.max(traindata)-np.min(traindata))\n",
        "    in_size = traindata.shape[1]\n",
        "    temp  = np.arange(in_size)\n",
        "    np.random.shuffle(temp)\n",
        "    traindata = traindata[temp]\n",
        "    trainlabel = trainlabel[temp]\n",
        "    activation_2 = activation( 'Sigmoid' )\n",
        "    #input_layer = layer( traindata.shape[1] , hidden_nodes , lambdaa , is_input = 1 )\n",
        "    hidden = layer(traindata.shape[1], hidden_nodes, lambdaa)\n",
        "    output_layer = layer(hidden_nodes , n_label, lambdaa)\n",
        "    activation_1 = activation( activation_mode )\n",
        "    loss = Loss_MSE()\n",
        "\n",
        "    layers = [hidden , output_layer]\n",
        "    accuracy_precision = np.std(trainlabel)/in_size\n",
        "    if  is_dropout == 0 :\n",
        "        losses = np.zeros(epoches)\n",
        "        for epoch in range(epoches):\n",
        "        \n",
        "            #input_layer.forward( traindata )\n",
        "            hidden.forward( traindata )\n",
        "            activation_1.forward( hidden.output )\n",
        "            output_layer.forward( activation_1.output)\n",
        "            activation_2.forward( output_layer.output )\n",
        "\n",
        "            losses[epoch] = loss.calculate_loss ( layers , activation_2.output , trainlabel )\n",
        "\n",
        "            loss.backward( activation_2.output , trainlabel )\n",
        "            activation_2.backward(loss.dinputs )\n",
        "            output_layer.backward(activation_2.dinputs)\n",
        "            activation_1.backward(output_layer.dinputs)\n",
        "            hidden.backward(activation_1.dinputs)\n",
        "\n",
        "            predictions = activation_2.output\n",
        "            accuracy = np.mean(np.absolute(predictions - trainlabel) < accuracy_precision)\n",
        "\n",
        "            optimizer = SGD(learning_rate = 0.1 , decay = 2)\n",
        "            optimizer.update_params (hidden)\n",
        "            optimizer.update_params (output_layer)\n",
        "\n",
        "            if not epoch % print_every :\n",
        "                print ( 'epoch : ' + str(epoch) + ' ' + 'acc: ' + str(accuracy) , ' loss : ' + str(losses[epoch]) + ' Learning rate : ' + str(optimizer.learning_rate) )\n",
        "\n",
        "            optimizer.increment()\n",
        "    else:\n",
        "        dropout = drop_out_layer(is_dropout)\n",
        "        losses = np.zeros(epoches)\n",
        "        for epoch in range(epoches):\n",
        "        \n",
        "            #input_layer.forward( traindata )\n",
        "            dropout.forward( traindata )\n",
        "            hidden.forward( dropout.output )\n",
        "            activation_1.forward( hidden.output )\n",
        "            output_layer.forward( activation_1.output)\n",
        "            activation_2.forward( output_layer.output )\n",
        "\n",
        "            losses[epoch] = loss.calculate_loss ( layers , activation_2.output , trainlabel )\n",
        "\n",
        "            loss.backward( activation_2.output , trainlabel )\n",
        "            activation_2.backward(loss.dinputs )\n",
        "            output_layer.backward(activation_2.dinputs)\n",
        "            activation_1.backward(output_layer.dinputs)\n",
        "            hidden.backward(activation_1.dinputs)\n",
        "            dropout.backward( hidden.dinputs )\n",
        "\n",
        "            predictions = activation_2.output\n",
        "            accuracy = np.mean(np.absolute(predictions - trainlabel) < accuracy_precision)\n",
        "\n",
        "            optimizer = SGD(learning_rate = 0.1 , decay = 2)\n",
        "            optimizer.update_params (hidden)\n",
        "            optimizer.update_params (output_layer)\n",
        "\n",
        "            if not epoch % print_every:\n",
        "                print ( 'epoch : ' + str(epoch) + ' ' + 'acc: ' + str(accuracy) , ' loss : ' + str(losses[epoch]) + ' Learning rate : ' + str(optimizer.learning_rate) )\n",
        "\n",
        "            optimizer.increment()\n",
        "    \n",
        "    return losses"
      ],
      "execution_count": 14,
      "outputs": []
    },
    {
      "cell_type": "code",
      "metadata": {
        "colab": {
          "base_uri": "https://localhost:8080/",
          "height": 1000
        },
        "id": "0NhUBdf7WsEy",
        "outputId": "b9df13f4-1da9-4637-c199-fd11af56c953"
      },
      "source": [
        "loss3 = NN(train_data, train_labels, 0, 'Tanh', 0.01,0.1 , 300, 100,3)\r\n",
        "loss1 = NN(train_data, train_labels, 0, 'Tanh', 0.01,0.1 , 100, 100,3)\r\n",
        "fig = plt.figure(figsize=(15,6))\r\n",
        "fig.patch.set_facecolor('yellow')\r\n",
        "fig.patch.set_alpha(0.47)\r\n",
        "ax = fig.add_subplot(111)\r\n",
        "ax.plot(loss3, color='white')\r\n",
        "ax.plot(loss1, color='Black')\r\n",
        "ax.patch.set_facecolor('red')\r\n",
        "ax.patch.set_alpha(0.2)\r\n",
        "plt.title('Loss in no dropout mode and Tanh')\r\n",
        "plt.xlabel('epoch')\r\n",
        "plt.ylabel('Loss')\r\n",
        "plt.legend(['300','100'])\r\n",
        "plt.show()"
      ],
      "execution_count": 15,
      "outputs": [
        {
          "output_type": "stream",
          "text": [
            "epoch : 0 acc: 0.0  loss : 22.811106379771623 Learning rate : 0.1\n",
            "epoch : 3 acc: 0.1171875  loss : 19.234375000000007 Learning rate : 0.1\n",
            "epoch : 6 acc: 0.1171875  loss : 19.234375000000007 Learning rate : 0.1\n",
            "epoch : 9 acc: 0.1171875  loss : 19.234375000000007 Learning rate : 0.1\n",
            "epoch : 12 acc: 0.1171875  loss : 19.23437500000001 Learning rate : 0.1\n",
            "epoch : 15 acc: 0.1171875  loss : 19.23437500000002 Learning rate : 0.1\n",
            "epoch : 18 acc: 0.1171875  loss : 19.23437500000002 Learning rate : 0.1\n",
            "epoch : 21 acc: 0.1171875  loss : 19.23437500000003 Learning rate : 0.1\n",
            "epoch : 24 acc: 0.1171875  loss : 19.234375000000036 Learning rate : 0.1\n",
            "epoch : 27 acc: 0.1171875  loss : 19.234375000000043 Learning rate : 0.1\n",
            "epoch : 30 acc: 0.1171875  loss : 19.234375000000046 Learning rate : 0.1\n",
            "epoch : 33 acc: 0.1171875  loss : 19.23437500000006 Learning rate : 0.1\n",
            "epoch : 36 acc: 0.1171875  loss : 19.234375000000075 Learning rate : 0.1\n",
            "epoch : 39 acc: 0.1171875  loss : 19.234375000000092 Learning rate : 0.1\n",
            "epoch : 42 acc: 0.1171875  loss : 19.234375000000107 Learning rate : 0.1\n",
            "epoch : 45 acc: 0.1171875  loss : 19.23437500000013 Learning rate : 0.1\n",
            "epoch : 48 acc: 0.1171875  loss : 19.234375000000156 Learning rate : 0.1\n",
            "epoch : 51 acc: 0.1171875  loss : 19.234375000000192 Learning rate : 0.1\n",
            "epoch : 54 acc: 0.1171875  loss : 19.234375000000227 Learning rate : 0.1\n",
            "epoch : 57 acc: 0.1171875  loss : 19.234375000000274 Learning rate : 0.1\n",
            "epoch : 60 acc: 0.1171875  loss : 19.23437500000033 Learning rate : 0.1\n",
            "epoch : 63 acc: 0.1171875  loss : 19.234375000000398 Learning rate : 0.1\n",
            "epoch : 66 acc: 0.1171875  loss : 19.234375000000476 Learning rate : 0.1\n",
            "epoch : 69 acc: 0.1171875  loss : 19.234375000000572 Learning rate : 0.1\n",
            "epoch : 72 acc: 0.1171875  loss : 19.234375000000682 Learning rate : 0.1\n",
            "epoch : 75 acc: 0.1171875  loss : 19.234375000000817 Learning rate : 0.1\n",
            "epoch : 78 acc: 0.1171875  loss : 19.23437500000098 Learning rate : 0.1\n",
            "epoch : 81 acc: 0.1171875  loss : 19.23437500000117 Learning rate : 0.1\n",
            "epoch : 84 acc: 0.1171875  loss : 19.234375000001396 Learning rate : 0.1\n",
            "epoch : 87 acc: 0.1171875  loss : 19.234375000001663 Learning rate : 0.1\n",
            "epoch : 90 acc: 0.1171875  loss : 19.234375000001975 Learning rate : 0.1\n",
            "epoch : 93 acc: 0.1171875  loss : 19.234375000002345 Learning rate : 0.1\n",
            "epoch : 96 acc: 0.1171875  loss : 19.23437500000279 Learning rate : 0.1\n",
            "epoch : 99 acc: 0.1171875  loss : 19.23437500000331 Learning rate : 0.1\n",
            "epoch : 0 acc: 0.0  loss : 22.811748177728276 Learning rate : 0.1\n",
            "epoch : 3 acc: 0.1171875  loss : 19.234445252569177 Learning rate : 0.1\n",
            "epoch : 6 acc: 0.1171875  loss : 19.234450096536776 Learning rate : 0.1\n",
            "epoch : 9 acc: 0.1171875  loss : 19.234455231759178 Learning rate : 0.1\n",
            "epoch : 12 acc: 0.1171875  loss : 19.23446067208694 Learning rate : 0.1\n",
            "epoch : 15 acc: 0.1171875  loss : 19.23446643169497 Learning rate : 0.1\n",
            "epoch : 18 acc: 0.1171875  loss : 19.2344725250545 Learning rate : 0.1\n",
            "epoch : 21 acc: 0.1171875  loss : 19.23447896690022 Learning rate : 0.1\n",
            "epoch : 24 acc: 0.1171875  loss : 19.234485772192414 Learning rate : 0.1\n",
            "epoch : 27 acc: 0.1171875  loss : 19.23449295607357 Learning rate : 0.1\n",
            "epoch : 30 acc: 0.1171875  loss : 19.234500533819347 Learning rate : 0.1\n",
            "epoch : 33 acc: 0.1171875  loss : 19.234508520783557 Learning rate : 0.1\n",
            "epoch : 36 acc: 0.1171875  loss : 19.234516932336845 Learning rate : 0.1\n",
            "epoch : 39 acc: 0.1171875  loss : 19.234525783799022 Learning rate : 0.1\n",
            "epoch : 42 acc: 0.1171875  loss : 19.23453509036475 Learning rate : 0.1\n",
            "epoch : 45 acc: 0.1171875  loss : 19.23454486702258 Learning rate : 0.1\n",
            "epoch : 48 acc: 0.1171875  loss : 19.234555128467257 Learning rate : 0.1\n",
            "epoch : 51 acc: 0.1171875  loss : 19.23456588900544 Learning rate : 0.1\n",
            "epoch : 54 acc: 0.1171875  loss : 19.23457716245489 Learning rate : 0.1\n",
            "epoch : 57 acc: 0.1171875  loss : 19.234588962037428 Learning rate : 0.1\n",
            "epoch : 60 acc: 0.1171875  loss : 19.23460130026615 Learning rate : 0.1\n",
            "epoch : 63 acc: 0.1171875  loss : 19.234614188827216 Learning rate : 0.1\n",
            "epoch : 66 acc: 0.1171875  loss : 19.23462763845697 Learning rate : 0.1\n",
            "epoch : 69 acc: 0.1171875  loss : 19.234641658815214 Learning rate : 0.1\n",
            "epoch : 72 acc: 0.1171875  loss : 19.23465625835555 Learning rate : 0.1\n",
            "epoch : 75 acc: 0.1171875  loss : 19.2346714441938 Learning rate : 0.1\n",
            "epoch : 78 acc: 0.1171875  loss : 19.234687221975967 Learning rate : 0.1\n",
            "epoch : 81 acc: 0.1171875  loss : 19.234703595746968 Learning rate : 0.1\n",
            "epoch : 84 acc: 0.1171875  loss : 19.23472056782174 Learning rate : 0.1\n",
            "epoch : 87 acc: 0.1171875  loss : 19.234738138660514 Learning rate : 0.1\n",
            "epoch : 90 acc: 0.1171875  loss : 19.234756306749937 Learning rate : 0.1\n",
            "epoch : 93 acc: 0.1171875  loss : 19.23477506849204 Learning rate : 0.1\n",
            "epoch : 96 acc: 0.1171875  loss : 19.234794418102965 Learning rate : 0.1\n",
            "epoch : 99 acc: 0.1171875  loss : 19.234814347523525 Learning rate : 0.1\n"
          ],
          "name": "stdout"
        },
        {
          "output_type": "display_data",
          "data": {
            "image/png": "[encoded data removed]",
            "text/plain": [
              "<Figure size 1080x432 with 1 Axes>"
            ]
          },
          "metadata": {
            "tags": [],
            "needs_background": "light"
          }
        }
      ]
    },
    {
      "cell_type": "markdown",
      "metadata": {
        "id": "HyXMDReOOg_I"
      },
      "source": [
        "Unfortunately model does not learn after first epoch and i dont know why, i tried to debug it, but i couldn't. as we can see there is a decrease in loss and this means backpropagation works well. for Tanh  and 100 nodes i got this figure for illustrating loss devtation . since it does not learn so totall accuracy is about 11 percent."
      ]
    },
    {
      "cell_type": "code",
      "metadata": {
        "colab": {
          "base_uri": "https://localhost:8080/",
          "height": 1000
        },
        "id": "bK2BHaOTQkAV",
        "outputId": "d3f0fa69-e8c1-4dc5-95c0-01d491510648"
      },
      "source": [
        "loss3 = NN(train_data, train_labels, 0, 'Relu', 0.01,0.1 , 300, 100,3)\r\n",
        "loss1 = NN(train_data, train_labels, 0, 'Relu', 0.01,0.1 , 100, 100,3)\r\n",
        "fig = plt.figure(figsize=(15,6))\r\n",
        "fig.patch.set_facecolor('yellow')\r\n",
        "fig.patch.set_alpha(0.47)\r\n",
        "ax = fig.add_subplot(111)\r\n",
        "ax.plot(loss3, color='white')\r\n",
        "ax.plot(loss1, color='Black')\r\n",
        "ax.patch.set_facecolor('red')\r\n",
        "ax.patch.set_alpha(0.2)\r\n",
        "plt.title('Loss in no dropout mode and Relu')\r\n",
        "plt.xlabel('epoch')\r\n",
        "plt.ylabel('Loss')\r\n",
        "plt.legend(['300','100'])\r\n",
        "plt.show()"
      ],
      "execution_count": 16,
      "outputs": [
        {
          "output_type": "stream",
          "text": [
            "epoch : 0 acc: 0.0  loss : 22.81250008353743 Learning rate : 0.1\n",
            "epoch : 3 acc: 0.0  loss : 22.703193971816898 Learning rate : 0.1\n",
            "epoch : 6 acc: 0.0  loss : 22.595665942872024 Learning rate : 0.1\n",
            "epoch : 9 acc: 0.0  loss : 22.490194126783273 Learning rate : 0.1\n",
            "epoch : 12 acc: 0.0  loss : 22.38697510128656 Learning rate : 0.1\n",
            "epoch : 15 acc: 0.0  loss : 22.286009821385946 Learning rate : 0.1\n",
            "epoch : 18 acc: 0.0  loss : 22.18674973977271 Learning rate : 0.1\n",
            "epoch : 21 acc: 0.0  loss : 22.08699753733351 Learning rate : 0.1\n",
            "epoch : 24 acc: 0.0  loss : 21.97957469109563 Learning rate : 0.1\n",
            "epoch : 27 acc: 0.0  loss : 21.842745338541437 Learning rate : 0.1\n",
            "epoch : 30 acc: 0.0  loss : 21.616658764713918 Learning rate : 0.1\n",
            "epoch : 33 acc: 0.0  loss : 21.17665522325956 Learning rate : 0.1\n",
            "epoch : 36 acc: 0.0  loss : 20.473225712754672 Learning rate : 0.1\n",
            "epoch : 39 acc: 0.0  loss : 19.870827507147197 Learning rate : 0.1\n",
            "epoch : 42 acc: 0.0  loss : 19.579102256446117 Learning rate : 0.1\n",
            "epoch : 45 acc: 0.0  loss : 19.450381289618647 Learning rate : 0.1\n",
            "epoch : 48 acc: 0.0  loss : 19.386005626284685 Learning rate : 0.1\n",
            "epoch : 51 acc: 0.1171875  loss : 19.349409379034057 Learning rate : 0.1\n",
            "epoch : 54 acc: 0.1171875  loss : 19.326482612969755 Learning rate : 0.1\n",
            "epoch : 57 acc: 0.1171875  loss : 19.311052934585597 Learning rate : 0.1\n",
            "epoch : 60 acc: 0.1171875  loss : 19.30009525643859 Learning rate : 0.1\n",
            "epoch : 63 acc: 0.1171875  loss : 19.29198478073833 Learning rate : 0.1\n",
            "epoch : 66 acc: 0.1171875  loss : 19.285782795688043 Learning rate : 0.1\n",
            "epoch : 69 acc: 0.1171875  loss : 19.280914201421464 Learning rate : 0.1\n",
            "epoch : 72 acc: 0.1171875  loss : 19.27700937266854 Learning rate : 0.1\n",
            "epoch : 75 acc: 0.1171875  loss : 19.27382111800688 Learning rate : 0.1\n",
            "epoch : 78 acc: 0.1171875  loss : 19.271178509414327 Learning rate : 0.1\n",
            "epoch : 81 acc: 0.1171875  loss : 19.268959943235394 Learning rate : 0.1\n",
            "epoch : 84 acc: 0.1171875  loss : 19.267076761806514 Learning rate : 0.1\n",
            "epoch : 87 acc: 0.1171875  loss : 19.265462936211616 Learning rate : 0.1\n",
            "epoch : 90 acc: 0.1171875  loss : 19.264068363445368 Learning rate : 0.1\n",
            "epoch : 93 acc: 0.1171875  loss : 19.262854392247917 Learning rate : 0.1\n",
            "epoch : 96 acc: 0.1171875  loss : 19.261790764240907 Learning rate : 0.1\n",
            "epoch : 99 acc: 0.1171875  loss : 19.26085347763724 Learning rate : 0.1\n",
            "epoch : 0 acc: 0.0  loss : 22.81250018772266 Learning rate : 0.1\n",
            "epoch : 3 acc: 0.0  loss : 22.703196992126607 Learning rate : 0.1\n",
            "epoch : 6 acc: 0.0  loss : 22.595676871670193 Learning rate : 0.1\n",
            "epoch : 9 acc: 0.0  loss : 22.49023143655176 Learning rate : 0.1\n",
            "epoch : 12 acc: 0.0  loss : 22.387100792441636 Learning rate : 0.1\n",
            "epoch : 15 acc: 0.0  loss : 22.286428171627755 Learning rate : 0.1\n",
            "epoch : 18 acc: 0.0  loss : 22.1881237667571 Learning rate : 0.1\n",
            "epoch : 21 acc: 0.0  loss : 22.091443086605494 Learning rate : 0.1\n",
            "epoch : 24 acc: 0.0  loss : 21.993698767384622 Learning rate : 0.1\n",
            "epoch : 27 acc: 0.0  loss : 21.886442564758593 Learning rate : 0.1\n",
            "epoch : 30 acc: 0.0  loss : 21.744867315113037 Learning rate : 0.1\n",
            "epoch : 33 acc: 0.0  loss : 21.503718500122865 Learning rate : 0.1\n",
            "epoch : 36 acc: 0.0  loss : 21.041666168067064 Learning rate : 0.1\n",
            "epoch : 39 acc: 0.0  loss : 20.357675181174123 Learning rate : 0.1\n",
            "epoch : 42 acc: 0.0  loss : 19.81860766590095 Learning rate : 0.1\n",
            "epoch : 45 acc: 0.0  loss : 19.56024429697017 Learning rate : 0.1\n",
            "epoch : 48 acc: 0.0  loss : 19.442832396865143 Learning rate : 0.1\n",
            "epoch : 51 acc: 0.0078125  loss : 19.382566725168818 Learning rate : 0.1\n",
            "epoch : 54 acc: 0.1171875  loss : 19.347696008225142 Learning rate : 0.1\n",
            "epoch : 57 acc: 0.1171875  loss : 19.32558714008638 Learning rate : 0.1\n",
            "epoch : 60 acc: 0.1171875  loss : 19.310582346617096 Learning rate : 0.1\n",
            "epoch : 63 acc: 0.1171875  loss : 19.299860926123937 Learning rate : 0.1\n",
            "epoch : 66 acc: 0.1171875  loss : 19.29188858315349 Learning rate : 0.1\n",
            "epoch : 69 acc: 0.1171875  loss : 19.285770345907405 Learning rate : 0.1\n",
            "epoch : 72 acc: 0.1171875  loss : 19.280953799436173 Learning rate : 0.1\n",
            "epoch : 75 acc: 0.1171875  loss : 19.277081779387323 Learning rate : 0.1\n",
            "epoch : 78 acc: 0.1171875  loss : 19.273914270994403 Learning rate : 0.1\n",
            "epoch : 81 acc: 0.1171875  loss : 19.271284645656728 Learning rate : 0.1\n",
            "epoch : 84 acc: 0.1171875  loss : 19.269073962096485 Learning rate : 0.1\n",
            "epoch : 87 acc: 0.1171875  loss : 19.267195258057324 Learning rate : 0.1\n",
            "epoch : 90 acc: 0.1171875  loss : 19.265583610179355 Learning rate : 0.1\n",
            "epoch : 93 acc: 0.1171875  loss : 19.264189651045932 Learning rate : 0.1\n",
            "epoch : 96 acc: 0.1171875  loss : 19.26297522724325 Learning rate : 0.1\n",
            "epoch : 99 acc: 0.1171875  loss : 19.261910422195093 Learning rate : 0.1\n"
          ],
          "name": "stdout"
        },
        {
          "output_type": "display_data",
          "data": {
            "image/png": "[encoded data removed]",
            "text/plain": [
              "<Figure size 1080x432 with 1 Axes>"
            ]
          },
          "metadata": {
            "tags": [],
            "needs_background": "light"
          }
        }
      ]
    },
    {
      "cell_type": "markdown",
      "metadata": {
        "id": "ik9YwVIiPMg_"
      },
      "source": [
        "As we can see here this means backpropagation works well because of decreasing in loss. with 300 nodes loss begins to decrease earlier than model with 100 nodes. "
      ]
    },
    {
      "cell_type": "code",
      "metadata": {
        "id": "KhGKxaqtONCx",
        "colab": {
          "base_uri": "https://localhost:8080/",
          "height": 1000
        },
        "outputId": "f7be8aff-a507-4dd0-e102-129bbce4954a"
      },
      "source": [
        "loss1 = NN(train_data, train_labels, 0.1, 'Relu', 0.01,0.1 , 300, 100,3)\r\n",
        "loss2 = NN(train_data, train_labels, 0, 'Relu', 0.01,0.1 , 300, 100,3)\r\n",
        "fig = plt.figure(figsize=(15,6))\r\n",
        "fig.patch.set_facecolor('yellow')\r\n",
        "fig.patch.set_alpha(0.47)\r\n",
        "ax = fig.add_subplot(111)\r\n",
        "ax.plot(loss1, color='white')\r\n",
        "ax.plot(loss2, color='Black')\r\n",
        "ax.patch.set_facecolor('red')\r\n",
        "ax.patch.set_alpha(0.2)\r\n",
        "plt.title('Loss in dropout mode and Relu')\r\n",
        "plt.xlabel('epoch')\r\n",
        "plt.ylabel('Loss')\r\n",
        "plt.legend(['with Dropout', 'No Dropout'])\r\n",
        "plt.show()"
      ],
      "execution_count": 17,
      "outputs": [
        {
          "output_type": "stream",
          "text": [
            "epoch : 0 acc: 0.0  loss : 22.812499714215946 Learning rate : 0.1\n",
            "epoch : 3 acc: 0.0  loss : 22.70318727479122 Learning rate : 0.1\n",
            "epoch : 6 acc: 0.0  loss : 22.595650494664056 Learning rate : 0.1\n",
            "epoch : 9 acc: 0.0  loss : 22.490160740225626 Learning rate : 0.1\n",
            "epoch : 12 acc: 0.0  loss : 22.386858613577818 Learning rate : 0.1\n",
            "epoch : 15 acc: 0.0  loss : 22.285613375094815 Learning rate : 0.1\n",
            "epoch : 18 acc: 0.0  loss : 22.18544282152366 Learning rate : 0.1\n",
            "epoch : 21 acc: 0.0  loss : 22.083092663432655 Learning rate : 0.1\n",
            "epoch : 24 acc: 0.0  loss : 21.96804917614631 Learning rate : 0.1\n",
            "epoch : 27 acc: 0.0  loss : 21.806650482808394 Learning rate : 0.1\n",
            "epoch : 30 acc: 0.0  loss : 21.533146596552918 Learning rate : 0.1\n",
            "epoch : 33 acc: 0.0  loss : 20.959334215616263 Learning rate : 0.1\n",
            "epoch : 36 acc: 0.0  loss : 20.239705753439658 Learning rate : 0.1\n",
            "epoch : 39 acc: 0.0  loss : 19.80480335983348 Learning rate : 0.1\n",
            "epoch : 42 acc: 0.015625  loss : 19.61458875215131 Learning rate : 0.1\n",
            "epoch : 45 acc: 0.0234375  loss : 19.47414312527669 Learning rate : 0.1\n",
            "epoch : 48 acc: 0.078125  loss : 19.422699101274635 Learning rate : 0.1\n",
            "epoch : 51 acc: 0.0859375  loss : 19.372384146404727 Learning rate : 0.1\n",
            "epoch : 54 acc: 0.0703125  loss : 19.371974228427142 Learning rate : 0.1\n",
            "epoch : 57 acc: 0.109375  loss : 19.3362774803107 Learning rate : 0.1\n",
            "epoch : 60 acc: 0.1015625  loss : 19.318422090906893 Learning rate : 0.1\n",
            "epoch : 63 acc: 0.109375  loss : 19.3126020547845 Learning rate : 0.1\n",
            "epoch : 66 acc: 0.1171875  loss : 19.29359667110179 Learning rate : 0.1\n",
            "epoch : 69 acc: 0.1171875  loss : 19.296711779765975 Learning rate : 0.1\n",
            "epoch : 72 acc: 0.1171875  loss : 19.2872056205736 Learning rate : 0.1\n",
            "epoch : 75 acc: 0.1171875  loss : 19.300277930764217 Learning rate : 0.1\n",
            "epoch : 78 acc: 0.109375  loss : 19.289886445001578 Learning rate : 0.1\n",
            "epoch : 81 acc: 0.109375  loss : 19.29824077324094 Learning rate : 0.1\n",
            "epoch : 84 acc: 0.109375  loss : 19.290224229298666 Learning rate : 0.1\n",
            "epoch : 87 acc: 0.1171875  loss : 19.27023619328215 Learning rate : 0.1\n",
            "epoch : 90 acc: 0.1171875  loss : 19.27430337470914 Learning rate : 0.1\n",
            "epoch : 93 acc: 0.1171875  loss : 19.271510641103827 Learning rate : 0.1\n",
            "epoch : 96 acc: 0.1171875  loss : 19.271136867957743 Learning rate : 0.1\n",
            "epoch : 99 acc: 0.109375  loss : 19.27821059283889 Learning rate : 0.1\n",
            "epoch : 0 acc: 0.0  loss : 22.812500277190257 Learning rate : 0.1\n",
            "epoch : 3 acc: 0.0  loss : 22.703194571735086 Learning rate : 0.1\n",
            "epoch : 6 acc: 0.0  loss : 22.595668021532298 Learning rate : 0.1\n",
            "epoch : 9 acc: 0.0  loss : 22.49020123265265 Learning rate : 0.1\n",
            "epoch : 12 acc: 0.0  loss : 22.386999046561023 Learning rate : 0.1\n",
            "epoch : 15 acc: 0.0  loss : 22.286089521996473 Learning rate : 0.1\n",
            "epoch : 18 acc: 0.0  loss : 22.187011479194304 Learning rate : 0.1\n",
            "epoch : 21 acc: 0.0  loss : 22.08784400262916 Learning rate : 0.1\n",
            "epoch : 24 acc: 0.0  loss : 21.982259821540715 Learning rate : 0.1\n",
            "epoch : 27 acc: 0.0  loss : 21.851006717779914 Learning rate : 0.1\n",
            "epoch : 30 acc: 0.0  loss : 21.64042822874874 Learning rate : 0.1\n",
            "epoch : 33 acc: 0.0  loss : 21.233237800856255 Learning rate : 0.1\n",
            "epoch : 36 acc: 0.0  loss : 20.553128325987785 Learning rate : 0.1\n",
            "epoch : 39 acc: 0.0  loss : 19.921360621383947 Learning rate : 0.1\n",
            "epoch : 42 acc: 0.0  loss : 19.601531644274054 Learning rate : 0.1\n",
            "epoch : 45 acc: 0.0  loss : 19.461051779009487 Learning rate : 0.1\n",
            "epoch : 48 acc: 0.0  loss : 19.391815680825776 Learning rate : 0.1\n",
            "epoch : 51 acc: 0.1171875  loss : 19.352940555323613 Learning rate : 0.1\n",
            "epoch : 54 acc: 0.1171875  loss : 19.328811403648892 Learning rate : 0.1\n",
            "epoch : 57 acc: 0.1171875  loss : 19.312685248176926 Learning rate : 0.1\n",
            "epoch : 60 acc: 0.1171875  loss : 19.301293820216447 Learning rate : 0.1\n",
            "epoch : 63 acc: 0.1171875  loss : 19.292897397048847 Learning rate : 0.1\n",
            "epoch : 66 acc: 0.1171875  loss : 19.28649812805812 Learning rate : 0.1\n",
            "epoch : 69 acc: 0.1171875  loss : 19.281488287124976 Learning rate : 0.1\n",
            "epoch : 72 acc: 0.1171875  loss : 19.27747918649427 Learning rate : 0.1\n",
            "epoch : 75 acc: 0.1171875  loss : 19.274211951414305 Learning rate : 0.1\n",
            "epoch : 78 acc: 0.1171875  loss : 19.271508198235008 Learning rate : 0.1\n",
            "epoch : 81 acc: 0.1171875  loss : 19.269241398782924 Learning rate : 0.1\n",
            "epoch : 84 acc: 0.1171875  loss : 19.26731954461443 Learning rate : 0.1\n",
            "epoch : 87 acc: 0.1171875  loss : 19.26567426711727 Learning rate : 0.1\n",
            "epoch : 90 acc: 0.1171875  loss : 19.264253792072736 Learning rate : 0.1\n",
            "epoch : 93 acc: 0.1171875  loss : 19.263018250286162 Learning rate : 0.1\n",
            "epoch : 96 acc: 0.1171875  loss : 19.261936479769354 Learning rate : 0.1\n",
            "epoch : 99 acc: 0.1171875  loss : 19.260983797503258 Learning rate : 0.1\n"
          ],
          "name": "stdout"
        },
        {
          "output_type": "display_data",
          "data": {
            "image/png": "[encoded data removed]",
            "text/plain": [
              "<Figure size 1080x432 with 1 Axes>"
            ]
          },
          "metadata": {
            "tags": [],
            "needs_background": "light"
          }
        }
      ]
    },
    {
      "cell_type": "markdown",
      "metadata": {
        "id": "KTpxxwQtP4xm"
      },
      "source": [
        "as we see backpropagation works for both Relo with dropoutlayer and without dropout layer. but we can see some fluctuation in model woth dropout and this is because of randomness of this choice. in model with dropout , model will start to decrease in loss earlier that model with no dropout."
      ]
    },
    {
      "cell_type": "code",
      "metadata": {
        "id": "G4Lk8DraVHnm"
      },
      "source": [
        ""
      ],
      "execution_count": 17,
      "outputs": []
    }
  ]
}