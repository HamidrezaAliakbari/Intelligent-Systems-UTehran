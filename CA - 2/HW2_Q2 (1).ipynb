{
  "nbformat": 4,
  "nbformat_minor": 0,
  "metadata": {
    "colab": {
      "name": "HW2_Q2.ipynb",
      "provenance": [],
      "collapsed_sections": []
    },
    "kernelspec": {
      "name": "python3",
      "display_name": "Python 3"
    },
    "accelerator": "TPU"
  },
  "cells": [
    {
      "cell_type": "code",
      "metadata": {
        "id": "Bgpnz0TOTgoB"
      },
      "source": [
        "import pandas as pd\n",
        "import numpy as np\n",
        "import numpy.matlib\n",
        "import math \n",
        "from numpy import linalg as LA"
      ],
      "execution_count": 1,
      "outputs": []
    },
    {
      "cell_type": "code",
      "metadata": {
        "id": "3JKexWR9T1Jj",
        "colab": {
          "base_uri": "https://localhost:8080/"
        },
        "outputId": "72043634-6cd9-4f2a-f73b-507b390149fb"
      },
      "source": [
        "from google.colab import drive\n",
        "drive.mount('/content/drive')"
      ],
      "execution_count": 2,
      "outputs": [
        {
          "output_type": "stream",
          "text": [
            "Mounted at /content/drive\n"
          ],
          "name": "stdout"
        }
      ]
    },
    {
      "cell_type": "code",
      "metadata": {
        "id": "E7zUVk7OcE-M",
        "colab": {
          "base_uri": "https://localhost:8080/",
          "height": 555
        },
        "outputId": "a3952522-d833-468b-ede4-f4f836bf2266"
      },
      "source": [
        "prison = pd.read_csv('/content/drive/My Drive/IS_HW2/prison_dataset.csv').sample(frac = 1, random_state =1).sample(frac = 1, random_state =1).sample(frac = 1, random_state =1)\n",
        "header = prison.columns\n",
        "test = prison.iloc[0:int(15424/4),:]\n",
        "train = prison.iloc[int(15424/4):-1,:]\n",
        "train"
      ],
      "execution_count": 3,
      "outputs": [
        {
          "output_type": "execute_result",
          "data": {
            "text/html": [
              "<div>\n",
              "<style scoped>\n",
              "    .dataframe tbody tr th:only-of-type {\n",
              "        vertical-align: middle;\n",
              "    }\n",
              "\n",
              "    .dataframe tbody tr th {\n",
              "        vertical-align: top;\n",
              "    }\n",
              "\n",
              "    .dataframe thead th {\n",
              "        text-align: right;\n",
              "    }\n",
              "</style>\n",
              "<table border=\"1\" class=\"dataframe\">\n",
              "  <thead>\n",
              "    <tr style=\"text-align: right;\">\n",
              "      <th></th>\n",
              "      <th>Fiscal Year Released</th>\n",
              "      <th>Recidivism Reporting Year</th>\n",
              "      <th>Race - Ethnicity</th>\n",
              "      <th>Age At Release</th>\n",
              "      <th>Convicting Offense Classification</th>\n",
              "      <th>Convicting Offense Type</th>\n",
              "      <th>Convicting Offense Subtype</th>\n",
              "      <th>Main Supervising District</th>\n",
              "      <th>Release Type</th>\n",
              "      <th>Part of Target Population</th>\n",
              "      <th>Recidivism - Return to Prison numeric</th>\n",
              "    </tr>\n",
              "  </thead>\n",
              "  <tbody>\n",
              "    <tr>\n",
              "      <th>11613</th>\n",
              "      <td>2015</td>\n",
              "      <td>2018</td>\n",
              "      <td>White</td>\n",
              "      <td>&lt;45</td>\n",
              "      <td>Other Felony</td>\n",
              "      <td>Other</td>\n",
              "      <td>Other</td>\n",
              "      <td>5JD</td>\n",
              "      <td>Parole</td>\n",
              "      <td>Yes</td>\n",
              "      <td>1</td>\n",
              "    </tr>\n",
              "    <tr>\n",
              "      <th>14466</th>\n",
              "      <td>2015</td>\n",
              "      <td>2018</td>\n",
              "      <td>White</td>\n",
              "      <td>&lt;45</td>\n",
              "      <td>Other Felony</td>\n",
              "      <td>Violent</td>\n",
              "      <td>Other</td>\n",
              "      <td>3JD</td>\n",
              "      <td>Discharged End of Sentence</td>\n",
              "      <td>Yes</td>\n",
              "      <td>0</td>\n",
              "    </tr>\n",
              "    <tr>\n",
              "      <th>12799</th>\n",
              "      <td>2015</td>\n",
              "      <td>2018</td>\n",
              "      <td>Black</td>\n",
              "      <td>&lt;45</td>\n",
              "      <td>Other Felony</td>\n",
              "      <td>Drug</td>\n",
              "      <td>Other</td>\n",
              "      <td>3JD</td>\n",
              "      <td>Parole</td>\n",
              "      <td>No</td>\n",
              "      <td>0</td>\n",
              "    </tr>\n",
              "    <tr>\n",
              "      <th>3708</th>\n",
              "      <td>2013</td>\n",
              "      <td>2016</td>\n",
              "      <td>White</td>\n",
              "      <td>&gt;45</td>\n",
              "      <td>D Felony</td>\n",
              "      <td>Drug</td>\n",
              "      <td>Other</td>\n",
              "      <td>3JD</td>\n",
              "      <td>Parole</td>\n",
              "      <td>Yes</td>\n",
              "      <td>1</td>\n",
              "    </tr>\n",
              "    <tr>\n",
              "      <th>8596</th>\n",
              "      <td>2015</td>\n",
              "      <td>2018</td>\n",
              "      <td>Black</td>\n",
              "      <td>&lt;45</td>\n",
              "      <td>Other Felony</td>\n",
              "      <td>Other</td>\n",
              "      <td>Other</td>\n",
              "      <td>3JD</td>\n",
              "      <td>Discharged End of Sentence</td>\n",
              "      <td>No</td>\n",
              "      <td>0</td>\n",
              "    </tr>\n",
              "    <tr>\n",
              "      <th>...</th>\n",
              "      <td>...</td>\n",
              "      <td>...</td>\n",
              "      <td>...</td>\n",
              "      <td>...</td>\n",
              "      <td>...</td>\n",
              "      <td>...</td>\n",
              "      <td>...</td>\n",
              "      <td>...</td>\n",
              "      <td>...</td>\n",
              "      <td>...</td>\n",
              "      <td>...</td>\n",
              "    </tr>\n",
              "    <tr>\n",
              "      <th>2679</th>\n",
              "      <td>2013</td>\n",
              "      <td>2016</td>\n",
              "      <td>White</td>\n",
              "      <td>&lt;45</td>\n",
              "      <td>Other Felony</td>\n",
              "      <td>Other</td>\n",
              "      <td>Other</td>\n",
              "      <td>3JD</td>\n",
              "      <td>Discharged End of Sentence</td>\n",
              "      <td>No</td>\n",
              "      <td>1</td>\n",
              "    </tr>\n",
              "    <tr>\n",
              "      <th>259</th>\n",
              "      <td>2010</td>\n",
              "      <td>2013</td>\n",
              "      <td>Black</td>\n",
              "      <td>&lt;45</td>\n",
              "      <td>D Felony</td>\n",
              "      <td>Other</td>\n",
              "      <td>Other</td>\n",
              "      <td>5JD</td>\n",
              "      <td>Discharged End of Sentence</td>\n",
              "      <td>Yes</td>\n",
              "      <td>1</td>\n",
              "    </tr>\n",
              "    <tr>\n",
              "      <th>10138</th>\n",
              "      <td>2015</td>\n",
              "      <td>2018</td>\n",
              "      <td>White</td>\n",
              "      <td>&lt;45</td>\n",
              "      <td>D Felony</td>\n",
              "      <td>Other</td>\n",
              "      <td>Other</td>\n",
              "      <td>3JD</td>\n",
              "      <td>Discharged End of Sentence</td>\n",
              "      <td>Yes</td>\n",
              "      <td>0</td>\n",
              "    </tr>\n",
              "    <tr>\n",
              "      <th>295</th>\n",
              "      <td>2010</td>\n",
              "      <td>2013</td>\n",
              "      <td>White</td>\n",
              "      <td>&lt;45</td>\n",
              "      <td>Other Felony</td>\n",
              "      <td>Other</td>\n",
              "      <td>Other</td>\n",
              "      <td>3JD</td>\n",
              "      <td>Parole</td>\n",
              "      <td>Yes</td>\n",
              "      <td>1</td>\n",
              "    </tr>\n",
              "    <tr>\n",
              "      <th>14724</th>\n",
              "      <td>2015</td>\n",
              "      <td>2018</td>\n",
              "      <td>White</td>\n",
              "      <td>&lt;45</td>\n",
              "      <td>D Felony</td>\n",
              "      <td>Drug</td>\n",
              "      <td>Trafficking</td>\n",
              "      <td>3JD</td>\n",
              "      <td>Discharged End of Sentence</td>\n",
              "      <td>Yes</td>\n",
              "      <td>0</td>\n",
              "    </tr>\n",
              "  </tbody>\n",
              "</table>\n",
              "<p>11567 rows × 11 columns</p>\n",
              "</div>"
            ],
            "text/plain": [
              "       Fiscal Year Released  ...  Recidivism - Return to Prison numeric\n",
              "11613                  2015  ...                                      1\n",
              "14466                  2015  ...                                      0\n",
              "12799                  2015  ...                                      0\n",
              "3708                   2013  ...                                      1\n",
              "8596                   2015  ...                                      0\n",
              "...                     ...  ...                                    ...\n",
              "2679                   2013  ...                                      1\n",
              "259                    2010  ...                                      1\n",
              "10138                  2015  ...                                      0\n",
              "295                    2010  ...                                      1\n",
              "14724                  2015  ...                                      0\n",
              "\n",
              "[11567 rows x 11 columns]"
            ]
          },
          "metadata": {
            "tags": []
          },
          "execution_count": 3
        }
      ]
    },
    {
      "cell_type": "code",
      "metadata": {
        "id": "xjOct3A7kHwa",
        "colab": {
          "base_uri": "https://localhost:8080/",
          "height": 35
        },
        "outputId": "f0908dbd-ef0f-4317-f19d-3f91ba16162b"
      },
      "source": [
        "train.iloc[2]['Release Type']"
      ],
      "execution_count": 4,
      "outputs": [
        {
          "output_type": "execute_result",
          "data": {
            "application/vnd.google.colaboratory.intrinsic+json": {
              "type": "string"
            },
            "text/plain": [
              "'Parole'"
            ]
          },
          "metadata": {
            "tags": []
          },
          "execution_count": 4
        }
      ]
    },
    {
      "cell_type": "code",
      "metadata": {
        "id": "2F4egRsQWcJj",
        "colab": {
          "base_uri": "https://localhost:8080/"
        },
        "outputId": "fadb66c0-c333-4130-d1c0-873d5f19c06c"
      },
      "source": [
        "prison_tot = prison.to_numpy()\n",
        "prison_tot.shape"
      ],
      "execution_count": 5,
      "outputs": [
        {
          "output_type": "execute_result",
          "data": {
            "text/plain": [
              "(15424, 11)"
            ]
          },
          "metadata": {
            "tags": []
          },
          "execution_count": 5
        }
      ]
    },
    {
      "cell_type": "code",
      "metadata": {
        "id": "4eRbt5k4UnXN"
      },
      "source": [
        "Age_At_Release = prison['Age At Release'].to_numpy()\n",
        "Convicting_Offense_Classification = prison['Convicting Offense Classification'].to_numpy()\n",
        "Convicting_Offense_Subtype = prison['Convicting Offense Subtype'].to_numpy()\n",
        "Convicting_Offense_Type = prison['Convicting Offense Type'].to_numpy()\n",
        "Fiscal_Year_Released = prison['Fiscal Year Released'].to_numpy()\n",
        "Main_Supervising_District = prison['Main Supervising District'].to_numpy()\n",
        "Part_of_Target_Population = prison['Part of Target Population'].to_numpy()\n",
        "Race_Ethnicity = prison['Race - Ethnicity'].to_numpy()\n",
        "Recidivism_Return_to_Prison_numeric = prison['Recidivism - Return to Prison numeric'].to_numpy()\n",
        "Recidivism_Reporting_Year = prison['Recidivism Reporting Year'].to_numpy()\n",
        "Release_Type = prison['Release Type'].to_numpy()"
      ],
      "execution_count": 6,
      "outputs": []
    },
    {
      "cell_type": "code",
      "metadata": {
        "id": "NrhCJInrU3TR"
      },
      "source": [
        "UNQ_Age_At_Release = prison['Age At Release'].unique()\n",
        "UNQ_Convicting_Offense_Classification = prison['Convicting Offense Classification'].unique()\n",
        "UNQ_Convicting_Offense_Subtype = prison['Convicting Offense Subtype'].unique()\n",
        "UNQ_Convicting_Offense_Type = prison['Convicting Offense Type'].unique()\n",
        "UNQ_Fiscal_Year_Released = prison['Fiscal Year Released'].unique()\n",
        "UNQ_Main_Supervising_District = prison['Main Supervising District'].unique()\n",
        "UNQ_Part_of_Target_Population = prison['Part of Target Population'].unique()\n",
        "UNQ_Race_Ethnicity = prison['Race - Ethnicity'].unique()\n",
        "UNQ_Recidivism_Return_to_Prison_numeric = prison['Recidivism - Return to Prison numeric'].unique()\n",
        "UNQ_Recidivism_Reporting_Year = prison['Recidivism Reporting Year'].unique()\n",
        "UNQ_Release_Type = prison['Release Type'].unique()\n"
      ],
      "execution_count": 7,
      "outputs": []
    },
    {
      "cell_type": "code",
      "metadata": {
        "id": "3Cwz92CWg09R",
        "colab": {
          "base_uri": "https://localhost:8080/"
        },
        "outputId": "a7b04d4f-5a0c-46a9-9120-759d217062f7"
      },
      "source": [
        "UNQ_Convicting_Offense_Type"
      ],
      "execution_count": 8,
      "outputs": [
        {
          "output_type": "execute_result",
          "data": {
            "text/plain": [
              "array(['Violent', 'Drug', 'Other'], dtype=object)"
            ]
          },
          "metadata": {
            "tags": []
          },
          "execution_count": 8
        }
      ]
    },
    {
      "cell_type": "code",
      "metadata": {
        "id": "ReUYBE7Pbbik"
      },
      "source": [
        "def entropy(probablities):\n",
        "    ts = np.sum(probablities)\n",
        "    probablities = probablities/ts\n",
        "    temp = 0\n",
        "    for i in range(probablities.shape[0]):\n",
        "        if probablities[ i ] == 0 :\n",
        "            return 0\n",
        "            break\n",
        "        else:\n",
        "            temp += - probablities[ i ] * np.log2( probablities[ i ] )\n",
        "    return temp"
      ],
      "execution_count": 9,
      "outputs": []
    },
    {
      "cell_type": "code",
      "metadata": {
        "id": "47waodkHdE6y"
      },
      "source": [
        "def match_unq_leaf(index, prison):\n",
        "    end = prison.shape[1] -1\n",
        "    temp = prison.iloc[:,[index,end]].to_numpy()\n",
        "    unq = prison.iloc[:,index].unique()\n",
        "    matched = np.zeros((unq.shape[0],2))\n",
        "    for i in range(unq.shape[0]):\n",
        "        for row in range(temp.shape[0]):\n",
        "            if temp[row][0] == unq[i]:\n",
        "                if temp[row][1] ==1:\n",
        "                    matched[i, 1] += 1\n",
        "                else:\n",
        "                    matched[i, 0] += 1\n",
        "    return matched"
      ],
      "execution_count": 10,
      "outputs": []
    },
    {
      "cell_type": "code",
      "metadata": {
        "id": "HR_1GVNSqPqG"
      },
      "source": [
        "def cal_branch_prob(arr):\n",
        "    vs = np.sum(arr , axis = 1)\n",
        "    tot = np.sum(vs)\n",
        "    return vs/tot"
      ],
      "execution_count": 11,
      "outputs": []
    },
    {
      "cell_type": "code",
      "metadata": {
        "id": "ggb0om5NfUCv"
      },
      "source": [
        "def gain(prison_tot):\n",
        "    tot_gain = np.zeros(prison_tot.shape[1]-1)\n",
        "    entropy_tot = entropy(np.sum(match_unq_leaf(prison_tot.shape[1]-1, prison_tot ), axis = 0))\n",
        "    for index in range(prison_tot.shape[1] - 1):\n",
        "        matched = match_unq_leaf(index,prison_tot)\n",
        "        matched_prob = cal_branch_prob(matched)\n",
        "        temp = 0\n",
        "        for i in range(matched_prob.shape[0]):\n",
        "            temp += matched_prob[ i ] * entropy( matched[i, :] )\n",
        "        tot_gain[ index ] = entropy_tot - temp\n",
        "    return tot_gain\n"
      ],
      "execution_count": 12,
      "outputs": []
    },
    {
      "cell_type": "code",
      "metadata": {
        "id": "x4118CAw00um"
      },
      "source": [
        "def create_branch(header, gains, data):\n",
        "    best_feature = np.argmax(gains)\n",
        "    yu = header[best_feature]\n",
        "    atr = data.iloc[:,best_feature].unique()\n",
        "    root_data = {}\n",
        "    for root in atr:\n",
        "        root_data[root] = data.where(root == data[header[best_feature]]).dropna()\n",
        "        root_data[root] = root_data[root].drop([header[best_feature]], axis = 1)\n",
        "    temp=np.delete(header, best_feature)\n",
        "    return temp, root_data, yu"
      ],
      "execution_count": 14,
      "outputs": []
    },
    {
      "cell_type": "code",
      "metadata": {
        "id": "M8NtRirIfa-U"
      },
      "source": [
        "def is_one(a,o):\n",
        "    a=a.to_numpy()\n",
        "    length = a.shape[0]\n",
        "    b = np.count_nonzero(a)\n",
        "    if o :\n",
        "        return b==length\n",
        "    else:\n",
        "        return b==0"
      ],
      "execution_count": 17,
      "outputs": []
    },
    {
      "cell_type": "code",
      "metadata": {
        "id": "b7Zt-AHhjOVL"
      },
      "source": [
        "def greater_one(a):\n",
        "    a=a.to_numpy()\n",
        "    length = a.shape[0]\n",
        "    b = np.count_nonzero(a)\n",
        "    return b>length/2"
      ],
      "execution_count": 18,
      "outputs": []
    },
    {
      "cell_type": "code",
      "metadata": {
        "id": "p_knb33t5aSY"
      },
      "source": [
        "class Node():\n",
        "    def __init__(self, node_data ,  header, branches = [], leaf_atr= None , gain = None, split_feature = None):\n",
        "        self.data = node_data\n",
        "        self.branches = branches\n",
        "        self.header = header\n",
        "        self.leaf_atr = leaf_atr\n",
        "        self.gain = gain\n",
        "        self.split_feature = split_feature\n",
        "    def reset(self):\n",
        "        self.branches = []\n"
      ],
      "execution_count": 20,
      "outputs": []
    },
    {
      "cell_type": "code",
      "metadata": {
        "id": "PlUNlYarHhqe"
      },
      "source": [
        "a=[]\n",
        "def ID3(train, header, depth):\n",
        "    node = Node(train, header)\n",
        "    node.reset()\n",
        "    if is_one(node.data.iloc[:,[-1]],1):\n",
        "        #print('here')\n",
        "        node.leaf_atr = 1\n",
        "        return node\n",
        "\n",
        "    if is_one(node.data.iloc[:,[-1]],0):\n",
        "        #print('2')\n",
        "        node.leaf_atr = 0\n",
        "        return node\n",
        "\n",
        "    if (node.header.shape[0] == 1) | (depth == 0):\n",
        "        if greater_one(node.data.iloc[:,[-1]]):\n",
        "            node.leaf_atr = 1\n",
        "        else:\n",
        "            node.leaf_atr = 0\n",
        "        return node\n",
        "    \n",
        "    node.gain = gain(node.data)\n",
        "    branch_header, branch_data, lop = create_branch( node.header, node.gain, node.data )\n",
        "    node.split_feature = lop\n",
        "    for feature in branch_data.keys():\n",
        "        node.branches.append( ID3(branch_data[feature], branch_header, depth - 1) )\n",
        "    return node"
      ],
      "execution_count": 21,
      "outputs": []
    },
    {
      "cell_type": "code",
      "metadata": {
        "id": "cFPQl8LRwJC9"
      },
      "source": [
        "Layer_1 = []\n",
        "res = []\n",
        "def heirac(root):\n",
        "    \n",
        "    if len(root.branches) == 0 :\n",
        "        a=[]\n",
        "        a.append(root.split_feature)\n",
        "        return a\n",
        "    else:\n",
        "        t=[]\n",
        "        for i in range(len(root.branches)):\n",
        "            temp=[]\n",
        "            temp.append(heirac(root.branches[i]))\n",
        "            temp.append(root.split_feature)\n",
        "            t.append(temp)\n",
        "        return t\n",
        "        "
      ],
      "execution_count": 24,
      "outputs": []
    },
    {
      "cell_type": "code",
      "metadata": {
        "id": "HOcQ2nCk5zfA"
      },
      "source": [
        "def surfe(data):\n",
        "    fiscal = data['Fiscal Year Released']\n",
        "    age = data['Age At Release']\n",
        "    convict = data['Convicting Offense Type']\n",
        "    district = data['Main Supervising District']\n",
        "    release = data['Release Type']\n",
        "    bin = data['Recidivism - Return to Prison numeric']\n",
        "    \n",
        "    if fiscal == 2015:\n",
        "        if age == '<45':\n",
        "            if convict == 'Violent':\n",
        "                return bin == 0\n",
        "            if convict == 'Drug':\n",
        "                return bin == 0\n",
        "            if convict == 'Other':\n",
        "                return bin == 0\n",
        "        if age == '>45':\n",
        "            if district == '3JD':\n",
        "                return bin == 0\n",
        "            if district == '5JD':\n",
        "                return bin == 0\n",
        "    elif fiscal == 2013:\n",
        "        if release == 'Discharged End of Sentence':\n",
        "            if convict == 'Violent':\n",
        "                return bin == 1\n",
        "            if convict == 'Drug':\n",
        "                return bin == 0\n",
        "            if convict == 'Other':\n",
        "                return bin == 1\n",
        "        if release == 'Parole':\n",
        "            if district == '3JD':\n",
        "                return bin == 1\n",
        "            if district == '5JD':\n",
        "                return bin == 1\n",
        "    elif fiscal == 2010:\n",
        "        return bin == 1\n"
      ],
      "execution_count": 26,
      "outputs": []
    },
    {
      "cell_type": "code",
      "metadata": {
        "id": "aL5wkFGadyll",
        "colab": {
          "base_uri": "https://localhost:8080/"
        },
        "outputId": "95f43720-de1b-4476-892f-fd3547f1c3f3"
      },
      "source": [
        " prison['Convicting Offense Type'].unique()"
      ],
      "execution_count": 27,
      "outputs": [
        {
          "output_type": "execute_result",
          "data": {
            "text/plain": [
              "array(['Violent', 'Drug', 'Other'], dtype=object)"
            ]
          },
          "metadata": {
            "tags": []
          },
          "execution_count": 27
        }
      ]
    },
    {
      "cell_type": "code",
      "metadata": {
        "id": "0X_KUQiDkzyZ",
        "colab": {
          "base_uri": "https://localhost:8080/"
        },
        "outputId": "c967a3c0-09c8-4364-a733-901c4bb63b05"
      },
      "source": [
        " prison['Age At Release'].unique()"
      ],
      "execution_count": 28,
      "outputs": [
        {
          "output_type": "execute_result",
          "data": {
            "text/plain": [
              "array(['<45', '>45'], dtype=object)"
            ]
          },
          "metadata": {
            "tags": []
          },
          "execution_count": 28
        }
      ]
    },
    {
      "cell_type": "code",
      "metadata": {
        "id": "bg476XV7lJYo",
        "colab": {
          "base_uri": "https://localhost:8080/"
        },
        "outputId": "1b318fce-6109-443c-e876-b78ccccefc3c"
      },
      "source": [
        " prison['Fiscal Year Released'].unique()"
      ],
      "execution_count": 29,
      "outputs": [
        {
          "output_type": "execute_result",
          "data": {
            "text/plain": [
              "array([2015, 2013, 2010])"
            ]
          },
          "metadata": {
            "tags": []
          },
          "execution_count": 29
        }
      ]
    },
    {
      "cell_type": "code",
      "metadata": {
        "id": "lVlH1_BXlMby",
        "colab": {
          "base_uri": "https://localhost:8080/"
        },
        "outputId": "fc61041e-03b3-4ae9-f106-666dfb66d0d2"
      },
      "source": [
        "prison['Main Supervising District'].unique()"
      ],
      "execution_count": 30,
      "outputs": [
        {
          "output_type": "execute_result",
          "data": {
            "text/plain": [
              "array(['3JD', '5JD'], dtype=object)"
            ]
          },
          "metadata": {
            "tags": []
          },
          "execution_count": 30
        }
      ]
    },
    {
      "cell_type": "code",
      "metadata": {
        "id": "24sjQPuwlO2o",
        "colab": {
          "base_uri": "https://localhost:8080/"
        },
        "outputId": "78335a7c-d78f-4e65-c76e-b34409a3f48e"
      },
      "source": [
        "prison['Release Type'].unique()"
      ],
      "execution_count": 31,
      "outputs": [
        {
          "output_type": "execute_result",
          "data": {
            "text/plain": [
              "array(['Discharged End of Sentence', 'Parole'], dtype=object)"
            ]
          },
          "metadata": {
            "tags": []
          },
          "execution_count": 31
        }
      ]
    },
    {
      "cell_type": "code",
      "metadata": {
        "id": "HUp9I905Fs1L"
      },
      "source": [
        "def test_rf(test, forest, ind):\n",
        "    pred = np.zeros((test.shape[0], trees.shape[0]), dtype = int)\n",
        "    for i in range(trees.shape[0]):\n",
        "        queri = test.iloc[:,ind[i,:-1]].to_dict(orient = \"records\")\n",
        "        for j in range(test.shape[0]):\n",
        "            pred[j,i] = predict(queri[j],trees[i])\n",
        "    result = np.zeros(test.shape[0], dtype = int)\n",
        "    for j in range(test.shape[0]):\n",
        "        result[j] = mod(pred[j,:])\n",
        "    return result"
      ],
      "execution_count": 50,
      "outputs": []
    },
    {
      "cell_type": "code",
      "metadata": {
        "id": "NpLvpHEvq7Nh"
      },
      "source": [
        "def mod(a):\n",
        "    counts = np.bincount(a)\n",
        "    return np.argmax(counts)\n"
      ],
      "execution_count": 55,
      "outputs": []
    },
    {
      "cell_type": "code",
      "metadata": {
        "id": "aSCCP3jxGLxp"
      },
      "source": [
        "def random_forest(train, header, depth, tree_num, attr_num):\n",
        "    a = np.zeros((tree_num, attr_num+1), dtype=int)\n",
        "    temp = np.arange(10)\n",
        "    for i in range(tree_num):\n",
        "        np.random.shuffle(temp)\n",
        "        a[i,0:attr_num] = temp[:attr_num]\n",
        "        a[i,attr_num] = 10\n",
        "    trees = np.empty(tree_num, dtype = object)\n",
        "    for i in range(tree_num):\n",
        "        trees[i] = deep(ID3(train.iloc[:,list(a[i,:])] ,np.take(header, list(a[i,:])),depth), train)\n",
        "    return trees,a"
      ],
      "execution_count": 56,
      "outputs": []
    },
    {
      "cell_type": "code",
      "metadata": {
        "id": "1vR7ARE9RO5n"
      },
      "source": [
        " \n",
        "def deep(a,data):  \n",
        "    if len(a.branches) == 0:\n",
        "        return a.leaf_atr\n",
        "    else:\n",
        "        tree = { a.split_feature : { } }\n",
        "        for i in range(len(a.branches)):\n",
        "            subtree = deep(a.branches[i],data)\n",
        "            tree[a.split_feature][data[a.split_feature].unique()[i]] = subtree\n",
        "    return tree"
      ],
      "execution_count": 40,
      "outputs": []
    },
    {
      "cell_type": "code",
      "metadata": {
        "id": "xV7hYcfElQIP"
      },
      "source": [
        "def testing(test):\n",
        "    leng=test.shape[0]\n",
        "    correct = 0\n",
        "    for i in range(leng):\n",
        "        if surfe(test.iloc[i]):\n",
        "            correct += 1\n",
        "    return correct/leng"
      ],
      "execution_count": 32,
      "outputs": []
    },
    {
      "cell_type": "code",
      "metadata": {
        "id": "bY2m3sANxOIO",
        "colab": {
          "base_uri": "https://localhost:8080/"
        },
        "outputId": "7ae5e3c4-0226-4f3e-9a74-b71955490a8a"
      },
      "source": [
        "gains = gain(train)\n",
        "for i in range(10):\n",
        "    print('Gain of '+ \"{:s}\".format(str(header[i])) + ' is: ' +\"{:3s}\".format(' ') + str(gains[i]))"
      ],
      "execution_count": 13,
      "outputs": [
        {
          "output_type": "stream",
          "text": [
            "Gain of Fiscal Year Released is:    0.21805471844518043\n",
            "Gain of Recidivism Reporting Year is:    0.21805471844518043\n",
            "Gain of Race - Ethnicity is:    0.0001064139946544973\n",
            "Gain of Age At Release is:    0.0056997109028152915\n",
            "Gain of Convicting Offense Classification is:    0.0005237713713839298\n",
            "Gain of Convicting Offense Type is:    0.0037213415523231763\n",
            "Gain of Convicting Offense Subtype is:    0.00115878411292214\n",
            "Gain of Main Supervising District is:    0.009217681338014927\n",
            "Gain of Release Type is:    0.010023069949074426\n",
            "Gain of Part of Target Population is:    0.016313781585013398\n"
          ],
          "name": "stdout"
        }
      ]
    },
    {
      "cell_type": "code",
      "metadata": {
        "id": "v8IIBDoofG_h"
      },
      "source": [
        "root = ID3(train, header, 3)"
      ],
      "execution_count": 22,
      "outputs": []
    },
    {
      "cell_type": "code",
      "metadata": {
        "colab": {
          "base_uri": "https://localhost:8080/"
        },
        "id": "47CTBILseHgu",
        "outputId": "a61e8840-cdbf-4dc2-8d15-15eaa0858d69"
      },
      "source": [
        "rt = deep(root, test)\n",
        "pred = np.zeros(test.shape[0], dtype = int)\n",
        "queri = test.iloc[:,:-1].to_dict(orient = \"records\")\n",
        "for j in range(test.shape[0]):\n",
        "    pred[j] = predict(queri[j],rt)\n",
        "confusion_mat = np.zeros((2,2) , dtype = int)\n",
        "for i in range(result.shape[0]):\n",
        "    confusion_mat[test.iloc[i,-1],pred[i]] += 1\n",
        "print(confusion_mat)"
      ],
      "execution_count": 62,
      "outputs": [
        {
          "output_type": "stream",
          "text": [
            "[[1482  214]\n",
            " [1042 1118]]\n"
          ],
          "name": "stdout"
        }
      ]
    },
    {
      "cell_type": "code",
      "metadata": {
        "id": "RtCPhAV1nDrh",
        "colab": {
          "base_uri": "https://localhost:8080/"
        },
        "outputId": "25709c6c-e54a-448e-a18b-0b67bc55c094"
      },
      "source": [
        "acc=testing(test)*100\n",
        "print('Accuracy for ID3 and max depth of 3 is : '+ str(acc))"
      ],
      "execution_count": 33,
      "outputs": [
        {
          "output_type": "stream",
          "text": [
            "Accuracy for ID3 and max depth of 3 is : 70.77282157676349\n"
          ],
          "name": "stdout"
        }
      ]
    },
    {
      "cell_type": "code",
      "metadata": {
        "colab": {
          "base_uri": "https://localhost:8080/"
        },
        "id": "JtgqSZ4F6YgS",
        "outputId": "08b3e08e-e5c7-4895-aba2-ae138569e2b1"
      },
      "source": [
        "testin(test, deep(ID3(train,header,3), test))"
      ],
      "execution_count": 45,
      "outputs": [
        {
          "output_type": "stream",
          "text": [
            "The prediction accuracy is:  67.42738589211619 %\n"
          ],
          "name": "stdout"
        }
      ]
    },
    {
      "cell_type": "code",
      "metadata": {
        "colab": {
          "base_uri": "https://localhost:8080/"
        },
        "id": "qQr5av2tVGv8",
        "outputId": "c9022769-cf92-4b3a-c423-df36daf8f689"
      },
      "source": [
        "a = deep(root,prison)\n",
        "a"
      ],
      "execution_count": 41,
      "outputs": [
        {
          "output_type": "execute_result",
          "data": {
            "text/plain": [
              "{'Fiscal Year Released': {2010: 1,\n",
              "  2013: {'Age At Release': {'<45': {'Convicting Offense Type': {'Drug': 0,\n",
              "      'Other': 1,\n",
              "      'Violent': 1}},\n",
              "    '>45': {'Main Supervising District': {'3JD': 1, '5JD': 1}}}},\n",
              "  2015: {'Release Type': {'Discharged End of Sentence': {'Convicting Offense Type': {'Drug': 0,\n",
              "      'Other': 0,\n",
              "      'Violent': 0}},\n",
              "    'Parole': {'Main Supervising District': {'3JD': 0, '5JD': 0}}}}}}"
            ]
          },
          "metadata": {
            "tags": []
          },
          "execution_count": 41
        }
      ]
    },
    {
      "cell_type": "code",
      "metadata": {
        "id": "-y6eC-slAxOf"
      },
      "source": [
        "def predict(query,tree,default = 0):\n",
        "    for key in list(query.keys()):\n",
        "        if key in list(tree.keys()):\n",
        "            try:\n",
        "                result = tree[key][query[key]] \n",
        "            except:\n",
        "                return default\n",
        "            result = tree[key][query[key]]\n",
        "            if isinstance(result,dict):\n",
        "                return predict(query,result)\n",
        "            else:\n",
        "                return result"
      ],
      "execution_count": 42,
      "outputs": []
    },
    {
      "cell_type": "code",
      "metadata": {
        "id": "p13anZbqVJce"
      },
      "source": [
        "def testin(data,tree):\n",
        "    queries = data.iloc[:,:-1].to_dict(orient = \"records\")\n",
        "    predicted = pd.DataFrame(columns=[\"predicted\"]) \n",
        "    for i in range(len(data)):\n",
        "        predicted.loc[i,\"predicted\"] = predict(queries[i],tree,0) \n",
        "    print('The prediction accuracy is: ',(np.sum(predicted[\"predicted\"].to_numpy() == data.iloc[:,-1].to_numpy())/len(data))*100,'%')"
      ],
      "execution_count": 43,
      "outputs": []
    },
    {
      "cell_type": "code",
      "metadata": {
        "colab": {
          "base_uri": "https://localhost:8080/"
        },
        "id": "RcMZGhjdCrgA",
        "outputId": "bbc2efb9-870b-4b48-d296-d5281d0a7710"
      },
      "source": [
        "deep(ID3(train,header,3), prison)"
      ],
      "execution_count": 44,
      "outputs": [
        {
          "output_type": "execute_result",
          "data": {
            "text/plain": [
              "{'Fiscal Year Released': {2010: 1,\n",
              "  2013: {'Age At Release': {'<45': {'Convicting Offense Type': {'Drug': 0,\n",
              "      'Other': 1,\n",
              "      'Violent': 1}},\n",
              "    '>45': {'Main Supervising District': {'3JD': 1, '5JD': 1}}}},\n",
              "  2015: {'Release Type': {'Discharged End of Sentence': {'Convicting Offense Type': {'Drug': 0,\n",
              "      'Other': 0,\n",
              "      'Violent': 0}},\n",
              "    'Parole': {'Main Supervising District': {'3JD': 0, '5JD': 0}}}}}}"
            ]
          },
          "metadata": {
            "tags": []
          },
          "execution_count": 44
        }
      ]
    },
    {
      "cell_type": "code",
      "metadata": {
        "id": "qG_KMrlDB66u"
      },
      "source": [
        "trees,a=random_forest(train,header,3,15, 2)"
      ],
      "execution_count": 66,
      "outputs": []
    },
    {
      "cell_type": "code",
      "metadata": {
        "colab": {
          "base_uri": "https://localhost:8080/"
        },
        "id": "hhS-06SEm17v",
        "outputId": "7a48a4e3-261c-4628-c4a4-cd7eeb10ccab"
      },
      "source": [
        "trees.shape"
      ],
      "execution_count": 67,
      "outputs": [
        {
          "output_type": "execute_result",
          "data": {
            "text/plain": [
              "(15,)"
            ]
          },
          "metadata": {
            "tags": []
          },
          "execution_count": 67
        }
      ]
    },
    {
      "cell_type": "code",
      "metadata": {
        "id": "kv9pvlKBJCSG"
      },
      "source": [
        "result = test_rf(test, trees, a)"
      ],
      "execution_count": 68,
      "outputs": []
    },
    {
      "cell_type": "code",
      "metadata": {
        "colab": {
          "base_uri": "https://localhost:8080/"
        },
        "id": "GlqIIe4QrS9C",
        "outputId": "b20c395c-8a93-4b54-c2d1-eb9f7d30e3f6"
      },
      "source": [
        "print('The prediction accuracy is: ',(np.sum(result== test.iloc[:,-1].to_numpy())/len(test))*100,'%')"
      ],
      "execution_count": 69,
      "outputs": [
        {
          "output_type": "stream",
          "text": [
            "The prediction accuracy is:  71.47302904564316 %\n"
          ],
          "name": "stdout"
        }
      ]
    },
    {
      "cell_type": "code",
      "metadata": {
        "id": "uO01_Q9Mthag"
      },
      "source": [
        "confusion_mat = np.zeros((2,2) , dtype = int)\n",
        "for i in range(result.shape[0]):\n",
        "    confusion_mat[test.iloc[i,-1],result[i]] += 1\n"
      ],
      "execution_count": 74,
      "outputs": []
    },
    {
      "cell_type": "code",
      "metadata": {
        "colab": {
          "base_uri": "https://localhost:8080/"
        },
        "id": "3vYF_vfeAuZY",
        "outputId": "26c2ff03-8cdb-429c-a367-30bd9ac6523b"
      },
      "source": [
        "print(confusion_mat)"
      ],
      "execution_count": 75,
      "outputs": [
        {
          "output_type": "stream",
          "text": [
            "[[1433  263]\n",
            " [ 837 1323]]\n"
          ],
          "name": "stdout"
        }
      ]
    },
    {
      "cell_type": "code",
      "metadata": {
        "colab": {
          "base_uri": "https://localhost:8080/"
        },
        "id": "PKbUXulzBAtP",
        "outputId": "7c7687bd-7054-40d1-d5ae-6bda562d9ade"
      },
      "source": [
        "from sklearn import preprocessing\n",
        "test_data = test.to_numpy()\n",
        "train_data = train.to_numpy()\n",
        "le = preprocessing.LabelEncoder()\n",
        "a = []\n",
        "for i in range(11):\n",
        "    le.fit(train_data.T[i])\n",
        "    a.append(le.transform(train_data.T[i]))\n",
        "\n",
        "from sklearn import preprocessing\n",
        "le = preprocessing.LabelEncoder()\n",
        "b = []\n",
        "for i in range(11):\n",
        "    le.fit(test_data.T[i])\n",
        "    b.append(le.transform(test_data.T[i]))\n",
        "\n",
        "from sklearn import tree\n",
        "from sklearn.metrics import confusion_matrix\n",
        "clf = tree.DecisionTreeClassifier(criterion=\"entropy\", random_state=0, max_depth=3)\n",
        "clf = clf.fit(np.array(a).T[:,:-1],np.array(a).T[:,-1])\n",
        "\n",
        "y_pred = clf.predict(np.array(b).T[:,:-1])\n",
        "print(\"Accuracy: \" + str(np.sum(y_pred == test_data[:,-1])/y_pred.shape[0]) )\n",
        "s =test_data[:,-1].shape\n",
        "z=np.zeros(s,dtype = int)\n",
        "for i in range(test_data.shape[0]):\n",
        "    z[i] = int(test_data[i,-1])\n",
        "print(\"Confusion matrix is : \\n\" , confusion_matrix(z,y_pred))"
      ],
      "execution_count": 63,
      "outputs": [
        {
          "output_type": "stream",
          "text": [
            "Accuracy: 0.7147302904564315\n",
            "Confusion matrix is : \n",
            " [[1433  263]\n",
            " [ 837 1323]]\n"
          ],
          "name": "stdout"
        }
      ]
    },
    {
      "cell_type": "code",
      "metadata": {
        "colab": {
          "base_uri": "https://localhost:8080/"
        },
        "id": "r4EZqZrtBW_w",
        "outputId": "b06e1946-1f24-47f4-8752-7bdaf61f6963"
      },
      "source": [
        "from sklearn.ensemble import RandomForestClassifier\n",
        "from sklearn.metrics import confusion_matrix\n",
        "clf = RandomForestClassifier(criterion=\"entropy\", random_state=0, max_depth=3)\n",
        "clf = clf.fit(np.array(a).T[:,:-1],np.array(a).T[:,-1])\n",
        "y_pred = clf.predict(np.array(b).T[:,:-1])\n",
        "print(\"Accuracy: \" + str(np.sum(y_pred == test_data[:,-1])/y_pred.shape[0]) )\n",
        "#"
      ],
      "execution_count": 64,
      "outputs": [
        {
          "output_type": "stream",
          "text": [
            "Accuracy: 0.7152489626556017\n"
          ],
          "name": "stdout"
        }
      ]
    },
    {
      "cell_type": "code",
      "metadata": {
        "colab": {
          "base_uri": "https://localhost:8080/"
        },
        "id": "fCOme81y9Bah",
        "outputId": "a0a375f4-bde1-43d3-b78a-37fe5df45338"
      },
      "source": [
        "s =test_data[:,-1].shape\n",
        "a=np.zeros(s,dtype = int)\n",
        "for i in range(test_data.shape[0]):\n",
        "    a[i] = int(test_data[i,-1])\n",
        "#a = test_data[:,-1]\n",
        "print(\"Confusion matrix is : \\n\" , confusion_matrix(a,y_pred))\n"
      ],
      "execution_count": 65,
      "outputs": [
        {
          "output_type": "stream",
          "text": [
            "Confusion matrix is : \n",
            " [[1396  300]\n",
            " [ 798 1362]]\n"
          ],
          "name": "stdout"
        }
      ]
    },
    {
      "cell_type": "code",
      "metadata": {
        "id": "CW8s4Ns5hgiZ"
      },
      "source": [
        ""
      ],
      "execution_count": null,
      "outputs": []
    }
  ]
}