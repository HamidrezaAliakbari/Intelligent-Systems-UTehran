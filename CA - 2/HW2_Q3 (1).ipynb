{
  "nbformat": 4,
  "nbformat_minor": 0,
  "metadata": {
    "colab": {
      "name": "HW2_Q3.ipynb",
      "provenance": [],
      "collapsed_sections": []
    },
    "kernelspec": {
      "name": "python3",
      "display_name": "Python 3"
    },
    "accelerator": "GPU"
  },
  "cells": [
    {
      "cell_type": "code",
      "metadata": {
        "id": "oXiT0EsvclIy"
      },
      "source": [
        "import pandas as pd\n",
        "import numpy as np\n",
        "import numpy.matlib\n",
        "import string\n",
        "import math \n",
        "import collections\n",
        "from numpy import linalg as LA\n",
        "import random"
      ],
      "execution_count": 1,
      "outputs": []
    },
    {
      "cell_type": "code",
      "metadata": {
        "id": "ljtRWO7YfB-5"
      },
      "source": [
        "COLONY_SIZE = 100"
      ],
      "execution_count": 2,
      "outputs": []
    },
    {
      "cell_type": "code",
      "metadata": {
        "id": "dpenFCouc3Cs",
        "colab": {
          "base_uri": "https://localhost:8080/"
        },
        "outputId": "cf0d1fc9-2f70-4821-e4a3-b7c9ac51a4ed"
      },
      "source": [
        "from google.colab import drive\n",
        "drive.mount('/content/drive')"
      ],
      "execution_count": 3,
      "outputs": [
        {
          "output_type": "stream",
          "text": [
            "Mounted at /content/drive\n"
          ],
          "name": "stdout"
        }
      ]
    },
    {
      "cell_type": "code",
      "metadata": {
        "id": "uCcvB_N9c5A7"
      },
      "source": [
        "dictionary = pd.read_csv('/content/drive/My Drive/IS_HW2/dictionary.csv').to_numpy()\n",
        "coded_words = pd.read_csv('/content/drive/My Drive/IS_HW2/coded_words.csv').to_numpy()"
      ],
      "execution_count": 4,
      "outputs": []
    },
    {
      "cell_type": "code",
      "metadata": {
        "id": "0a1QKXZFdr1i"
      },
      "source": [
        "english_alphabet = np.array(list(str(string.ascii_lowercase)))"
      ],
      "execution_count": 5,
      "outputs": []
    },
    {
      "cell_type": "code",
      "metadata": {
        "id": "CtmRlFvsdukY"
      },
      "source": [
        "colony=np.empty( (COLONY_SIZE,26), dtype = object)\n",
        "for person in range(COLONY_SIZE):\n",
        "    colony[ person] = english_alphabet\n",
        "    np.random.shuffle( colony[ person] )\n",
        "for person in range(COLONY_SIZE ):\n",
        "    np.random.shuffle( colony[ person ] )"
      ],
      "execution_count": 6,
      "outputs": []
    },
    {
      "cell_type": "code",
      "metadata": {
        "id": "Exz_T1Y9gNrn"
      },
      "source": [
        "def key_dict(key):\n",
        "    dictionary = {}\n",
        "    base = np.array(list(str(string.ascii_lowercase)))\n",
        "    for i in range(26):\n",
        "        dictionary[ key[i] ] = base[i]\n",
        "    return dictionary"
      ],
      "execution_count": 7,
      "outputs": []
    },
    {
      "cell_type": "code",
      "metadata": {
        "id": "zF6IdcDUe4E2"
      },
      "source": [
        "def change_string(in_string, key_dict):\n",
        "    array_string = np.array( list( in_string ) )\n",
        "    temp_string = np.empty( len(list( in_string )), dtype=object )\n",
        "    for string_letter in range(array_string.shape[0]):\n",
        "        temp_string[string_letter] = key_dict[ array_string[ string_letter ] ]\n",
        "    return ''.join(temp_string)"
      ],
      "execution_count": 8,
      "outputs": []
    },
    {
      "cell_type": "code",
      "metadata": {
        "id": "CR7XSrfZn2h2"
      },
      "source": [
        "def rank(key, coded_words, dictionary):\n",
        "    key_ = key_dict(key)\n",
        "    matched = 0\n",
        "    size = coded_words.shape[0]\n",
        "    for word in coded_words:\n",
        "        if change_string(word[0], key_) in dictionary:\n",
        "            matched += 1\n",
        "    return matched/size"
      ],
      "execution_count": 9,
      "outputs": []
    },
    {
      "cell_type": "code",
      "metadata": {
        "id": "q__IcReplCpl"
      },
      "source": [
        "def selection(population, colony_size, coded_words, dictionary):\n",
        "    selected = np.empty( (colony_size,26), dtype = object)\n",
        "    ranking = np.zeros(population.shape[0])\n",
        "    for person in range(population.shape[0]):\n",
        "        ranking[person] = rank(population[person], coded_words, dictionary)\n",
        "    max_arg = (-ranking).argsort()[:colony_size]\n",
        "    most_matched = ranking[max_arg[0]]\n",
        "    for i in range(colony_size):\n",
        "        selected[ i ] = population[ max_arg[ i ] ]\n",
        "    return most_matched, selected"
      ],
      "execution_count": 10,
      "outputs": []
    },
    {
      "cell_type": "code",
      "metadata": {
        "id": "pxTW9DSEjvZw"
      },
      "source": [
        "def create(parent, indice):\n",
        "    english_alphabet = np.array(list(str(string.ascii_lowercase)))\n",
        "    childeren = np.empty((2,26), dtype = object)\n",
        "    childeren[:, 0: indice] = parent[:, 0: indice]\n",
        "    childeren[0,  indice:26] = parent[1,  indice:26]\n",
        "    childeren[1, indice:26] = parent[0,  indice:26]\n",
        "    temp=[[],[]]\n",
        "    temp1=[[],[]]\n",
        "    \n",
        "    for i in range(2):\n",
        "        for letter in childeren[i,  indice:26]:\n",
        "            if letter not in parent[i,  indice:26] :\n",
        "                temp[i].append(letter)\n",
        "    for i in range(2):\n",
        "        for j in range(26-indice):\n",
        "            if childeren[i,  indice+j] not in parent[i,  indice:26] :\n",
        "                childeren[i, indice + j ] = temp[1-i][0]\n",
        "                temp[1-i].remove(temp[1-i][0])\n",
        "    return childeren\n"
      ],
      "execution_count": 11,
      "outputs": []
    },
    {
      "cell_type": "code",
      "metadata": {
        "id": "tu5v-O7oY5q-"
      },
      "source": [
        "def generate(population):\n",
        "    childeren = np.empty((population.shape[0],26), dtype = object)\n",
        "    colapse_indices = np.random.randint(2,25, size=int(population.shape[0]/2))\n",
        "    for i in range(int(population.shape[0]/2)):\n",
        "        childeren[2*i:2*i+2, :] = create(population[2*i:2*i+2, :], colapse_indices[i])\n",
        "    return childeren"
      ],
      "execution_count": 12,
      "outputs": []
    },
    {
      "cell_type": "code",
      "metadata": {
        "id": "RbJW0SjdxyKJ"
      },
      "source": [
        "def cross_over(population):\n",
        "    colony_size = population.shape[0]\n",
        "    best_half = population[ int(colony_size/2) : colony_size , : ]\n",
        "    worst_half = population[ 0 : int(colony_size/2) , : ]\n",
        "    random_index = np.arange(int(colony_size/2))\n",
        "    np.random.shuffle(random_index)\n",
        "    childeren_1 = generate(np.take(best_half, random_index[0:int(colony_size*(0.4))], axis = 0 ))\n",
        "    childeren_2 = generate(np.take(worst_half, random_index[0:int(colony_size*(0.4))], axis = 0 ))\n",
        "    selected = np.empty( (int(colony_size*(0.2)),26), dtype = object)\n",
        "    selected[0:int(colony_size*(0.1))] = np.take(best_half, random_index[int(colony_size*(0.4)):int(colony_size*(0.5))], axis = 0 )\n",
        "    selected[int(colony_size*(0.1)) : int(colony_size*(0.2))] = np.take(worst_half, random_index[int(colony_size*(0.4)) : int(colony_size*(0.5))], axis = 0 )\n",
        "    np.random.shuffle(selected)\n",
        "    childeren_3 = generate(selected)\n",
        "    all_species = np.empty( (colony_size*(2),26), dtype = object)\n",
        "    all_species[0:colony_size] = population\n",
        "    all_species[colony_size:int(colony_size*(1.4))] = childeren_1\n",
        "    all_species[int(colony_size*(1.4)) : int(colony_size*(1.8))] = childeren_2\n",
        "    all_species[int(colony_size*(1.8)) : int(colony_size*(2))] = childeren_3\n",
        "    return all_species"
      ],
      "execution_count": 13,
      "outputs": []
    },
    {
      "cell_type": "code",
      "metadata": {
        "id": "Dn2EWUa_gvZ3"
      },
      "source": [
        "def colapse(childeren, indices):\n",
        "    p_1 = [[],[]]\n",
        "    for i in range(26):\n",
        "        if indices[i] == 0:\n",
        "            p_1[0].append(childeren[i])\n",
        "        elif indices[i] == 1:\n",
        "            p_1[1].append(childeren[i])\n",
        "    random.shuffle(p_1[0])\n",
        "    immortals = np.empty((1,26),dtype=object)\n",
        "    for i in range(26):\n",
        "        if indices[i] == 0:\n",
        "            immortals[0,i]= p_1[0][0]\n",
        "            p_1[0].remove(p_1[0][0])\n",
        "        elif indices[i] == 1:\n",
        "            immortals[0,i]= p_1[1][0]\n",
        "            p_1[1].remove(p_1[1][0])\n",
        "    return immortals\n",
        "            "
      ],
      "execution_count": 14,
      "outputs": []
    },
    {
      "cell_type": "code",
      "metadata": {
        "id": "yvLeu1kKZDIW"
      },
      "source": [
        "def mutation(population, rate):\n",
        "    if np.floor(population.shape[0]*rate) > 0 :\n",
        "        random_index = np.arange(population.shape[0])\n",
        "        np.random.shuffle(random_index)\n",
        "    immortals = np.take(population, random_index[0:int(np.floor(population.shape[0]*rate))],axis=0)\n",
        "    a=np.zeros(13, dtype = int)\n",
        "    b=np.ones(13, dtype = int)\n",
        "    temp = np.concatenate((a, b), axis=None)\n",
        "    colapse_indices = np.zeros((immortals.shape[0],26),dtype=int)\n",
        "    for i in range(immortals.shape[0]):\n",
        "        colapse_indices[i,:] = temp\n",
        "        numpy.random.shuffle( colapse_indices[ i , : ] )\n",
        "    avengers = np.empty((immortals.shape[0],26),dtype=object)\n",
        "    for i in range(immortals.shape[0]):\n",
        "        avengers[i,:]=colapse(immortals[i,:],colapse_indices[i,:])\n",
        "    return avengers"
      ],
      "execution_count": 15,
      "outputs": []
    },
    {
      "cell_type": "code",
      "metadata": {
        "id": "-FUUoHpyuFsS"
      },
      "source": [
        " def GA(colony,  mutation_rate, coded_words, dictionary):\n",
        "     population = colony\n",
        "     colony_size = colony.shape[0]\n",
        "     itter=0\n",
        "     while True:\n",
        "        best_acc , selected = selection(population, colony_size, coded_words, dictionary)\n",
        "        if best_acc == 1 or itter == 35:\n",
        "            return selected[0,:], best_acc\n",
        "        all_species = cross_over(selected)\n",
        "        immortals = mutation(all_species[colony_size:2*colony_size,:], mutation_rate)\n",
        "        population = np.empty(( all_species.shape[0] + immortals.shape[0] , 26  ), dtype = object)\n",
        "        population[0: all_species.shape[0] ] = all_species\n",
        "        population[ all_species.shape[0] : all_species.shape[0] + immortals.shape[0] ] = immortals\n",
        "        itter += 1"
      ],
      "execution_count": 16,
      "outputs": []
    },
    {
      "cell_type": "code",
      "metadata": {
        "id": "fEWhErsq9fGa"
      },
      "source": [
        "def cal_freq_match(dictionary, coded_words):\n",
        "    all_freq = {}\n",
        "    for word in dictionary:\n",
        "        for i in str(word[0]): \n",
        "            if i in all_freq: \n",
        "                all_freq[i] += 1\n",
        "            else: \n",
        "                all_freq[i] = 1\n",
        "    coded_word_freq = {}\n",
        "    for word in coded_words:\n",
        "        for i in str(word[0]): \n",
        "            if i in coded_word_freq: \n",
        "                coded_word_freq[i] += 1\n",
        "            else: \n",
        "                coded_word_freq[i] = 1\n",
        "    dictionary_sort = sorted(all_freq.items(), key=lambda x: x[1], reverse=True)\n",
        "    coded_words_sort = sorted(coded_word_freq.items(), key=lambda x: x[1], reverse=True)\n",
        "    matched = {}\n",
        "    for i in range(26):\n",
        "        matched[ dictionary_sort[i][0] ] = coded_words_sort[i][0]\n",
        "    matched = dict(collections.OrderedDict(sorted(matched.items())))\n",
        "    return matched\n"
      ],
      "execution_count": 17,
      "outputs": []
    },
    {
      "cell_type": "code",
      "metadata": {
        "id": "CduuWxSy0yRN"
      },
      "source": [
        "key = []\n",
        "a = cal_freq_match(dictionary, coded_words)\n",
        "for letter in a.values():\n",
        "    key.append(letter)"
      ],
      "execution_count": 18,
      "outputs": []
    },
    {
      "cell_type": "code",
      "metadata": {
        "id": "wKDl0GdE5LK9",
        "outputId": "8179c713-4ad7-471e-a853-26eafff41bed",
        "colab": {
          "base_uri": "https://localhost:8080/",
          "height": 35
        }
      },
      "source": [
        "best_key, accuracy = GA(colony, 0.1, coded_words, dictionary)\n",
        "best_key"
      ],
      "execution_count": 40,
      "outputs": [
        {
          "output_type": "execute_result",
          "data": {
            "application/vnd.google.colaboratory.intrinsic+json": {
              "type": "string"
            },
            "text/plain": [
              "'zyvkosbdixpghtwcarmjlfunqe'"
            ]
          },
          "metadata": {
            "tags": []
          },
          "execution_count": 40
        }
      ]
    },
    {
      "cell_type": "code",
      "metadata": {
        "id": "Mzdg-S774PkQ"
      },
      "source": [
        "key= ''.join(key)\n",
        "best_acc_reached = rank(best_key,coded_words,dictionary)*100"
      ],
      "execution_count": 41,
      "outputs": []
    },
    {
      "cell_type": "code",
      "metadata": {
        "colab": {
          "base_uri": "https://localhost:8080/"
        },
        "id": "IoJhA1rb4ob_",
        "outputId": "873e764c-4e3b-494f-dfc5-6c4be38315e3"
      },
      "source": [
        "print('Best accuracy reached '+ str(best_acc_reached) + '%'+ ' for key : '+ str(best_key))"
      ],
      "execution_count": 42,
      "outputs": [
        {
          "output_type": "stream",
          "text": [
            "Best accuracy reached 85.0% for key : zyvkosbdixpghtwcarmjlfunqe\n"
          ],
          "name": "stdout"
        }
      ]
    },
    {
      "cell_type": "code",
      "metadata": {
        "id": "1YKXXRfkA13y"
      },
      "source": [
        ""
      ],
      "execution_count": null,
      "outputs": []
    }
  ]
}