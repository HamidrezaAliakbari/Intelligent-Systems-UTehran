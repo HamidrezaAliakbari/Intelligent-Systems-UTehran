{
  "nbformat": 4,
  "nbformat_minor": 0,
  "metadata": {
    "colab": {
      "name": "IS_HW4_Q5.ipynb",
      "provenance": [],
      "collapsed_sections": []
    },
    "kernelspec": {
      "name": "python3",
      "display_name": "Python 3"
    }
  },
  "cells": [
    {
      "cell_type": "markdown",
      "metadata": {
        "id": "DYnXHuLjn0Wf"
      },
      "source": [
        "#HW 4\r\n",
        "##Question 5"
      ]
    },
    {
      "cell_type": "code",
      "metadata": {
        "id": "xbtmsWhGxgvT"
      },
      "source": [
        "import pandas as pd\r\n",
        "import numpy as np\r\n",
        "import numpy.matlib\r\n",
        "import math \r\n",
        "from numpy import linalg as LA\r\n",
        "from matplotlib import pyplot as plt"
      ],
      "execution_count": null,
      "outputs": []
    },
    {
      "cell_type": "code",
      "metadata": {
        "colab": {
          "base_uri": "https://localhost:8080/"
        },
        "id": "U5fGlYrixlRH",
        "outputId": "d7026a1b-ce2e-4827-8f7e-381a338dc7fc"
      },
      "source": [
        "from google.colab import drive\r\n",
        "drive.mount('/content/drive')"
      ],
      "execution_count": null,
      "outputs": [
        {
          "output_type": "stream",
          "text": [
            "Mounted at /content/drive\n"
          ],
          "name": "stdout"
        }
      ]
    },
    {
      "cell_type": "code",
      "metadata": {
        "id": "gvh6VDTDxnY4"
      },
      "source": [
        "income = pd.read_csv('/content/drive/My Drive/IS/IS_HW4/income_Q5.csv')"
      ],
      "execution_count": null,
      "outputs": []
    },
    {
      "cell_type": "code",
      "metadata": {
        "id": "OX1iT_Ccxo2j"
      },
      "source": [
        "def normalize(x):\r\n",
        "    y = (x - np.mean(x, axis = 0))/np.std(x, axis = 0)\r\n",
        "    return y"
      ],
      "execution_count": null,
      "outputs": []
    },
    {
      "cell_type": "markdown",
      "metadata": {
        "id": "GxltRSIfsH8v"
      },
      "source": [
        "this function splits data to 80 percent train and 20 percent test data."
      ]
    },
    {
      "cell_type": "code",
      "metadata": {
        "id": "RGV28Cs-ywJe"
      },
      "source": [
        "def split_data( data ):\r\n",
        "    copy = data.to_numpy()\r\n",
        "    size = copy.shape[0]\r\n",
        "    data = data.sample(frac = 1, random_state =1).sample(frac = 1, random_state =1).sample(frac = 1, random_state =1)\r\n",
        "    cross = int(size/5)\r\n",
        "    return data.iloc[ cross: , : ] , data.iloc[ :cross , : ]"
      ],
      "execution_count": null,
      "outputs": []
    },
    {
      "cell_type": "code",
      "metadata": {
        "colab": {
          "base_uri": "https://localhost:8080/",
          "height": 204
        },
        "id": "Opbds0ndAKu0",
        "outputId": "8410f8a0-8016-4210-b63e-43595b9fb1a3"
      },
      "source": [
        "income.head()"
      ],
      "execution_count": null,
      "outputs": [
        {
          "output_type": "execute_result",
          "data": {
            "text/html": [
              "<div>\n",
              "<style scoped>\n",
              "    .dataframe tbody tr th:only-of-type {\n",
              "        vertical-align: middle;\n",
              "    }\n",
              "\n",
              "    .dataframe tbody tr th {\n",
              "        vertical-align: top;\n",
              "    }\n",
              "\n",
              "    .dataframe thead th {\n",
              "        text-align: right;\n",
              "    }\n",
              "</style>\n",
              "<table border=\"1\" class=\"dataframe\">\n",
              "  <thead>\n",
              "    <tr style=\"text-align: right;\">\n",
              "      <th></th>\n",
              "      <th>age</th>\n",
              "      <th>workclass</th>\n",
              "      <th>education</th>\n",
              "      <th>educational-num</th>\n",
              "      <th>marital-status</th>\n",
              "      <th>occupation</th>\n",
              "      <th>relationship</th>\n",
              "      <th>race</th>\n",
              "      <th>gender</th>\n",
              "      <th>native-country</th>\n",
              "      <th>income</th>\n",
              "    </tr>\n",
              "  </thead>\n",
              "  <tbody>\n",
              "    <tr>\n",
              "      <th>0</th>\n",
              "      <td>&lt;=38</td>\n",
              "      <td>Private</td>\n",
              "      <td>11th</td>\n",
              "      <td>&lt;=9</td>\n",
              "      <td>Never-married</td>\n",
              "      <td>Machine-op-inspct</td>\n",
              "      <td>Own-child</td>\n",
              "      <td>Black</td>\n",
              "      <td>Male</td>\n",
              "      <td>United-States</td>\n",
              "      <td>&lt;=50K</td>\n",
              "    </tr>\n",
              "    <tr>\n",
              "      <th>1</th>\n",
              "      <td>&lt;=38</td>\n",
              "      <td>Private</td>\n",
              "      <td>HS-grad</td>\n",
              "      <td>&lt;=9</td>\n",
              "      <td>Married-civ-spouse</td>\n",
              "      <td>Farming-fishing</td>\n",
              "      <td>Husband</td>\n",
              "      <td>White</td>\n",
              "      <td>Male</td>\n",
              "      <td>United-States</td>\n",
              "      <td>&lt;=50K</td>\n",
              "    </tr>\n",
              "    <tr>\n",
              "      <th>2</th>\n",
              "      <td>&lt;=38</td>\n",
              "      <td>Local-gov</td>\n",
              "      <td>Assoc-acdm</td>\n",
              "      <td>&gt;9</td>\n",
              "      <td>Married-civ-spouse</td>\n",
              "      <td>Protective-serv</td>\n",
              "      <td>Husband</td>\n",
              "      <td>White</td>\n",
              "      <td>Male</td>\n",
              "      <td>United-States</td>\n",
              "      <td>&gt;50K</td>\n",
              "    </tr>\n",
              "    <tr>\n",
              "      <th>3</th>\n",
              "      <td>&gt;38</td>\n",
              "      <td>Private</td>\n",
              "      <td>Some-college</td>\n",
              "      <td>&gt;9</td>\n",
              "      <td>Married-civ-spouse</td>\n",
              "      <td>Machine-op-inspct</td>\n",
              "      <td>Husband</td>\n",
              "      <td>Black</td>\n",
              "      <td>Male</td>\n",
              "      <td>United-States</td>\n",
              "      <td>&gt;50K</td>\n",
              "    </tr>\n",
              "    <tr>\n",
              "      <th>4</th>\n",
              "      <td>&lt;=38</td>\n",
              "      <td>Special</td>\n",
              "      <td>Some-college</td>\n",
              "      <td>&gt;9</td>\n",
              "      <td>Never-married</td>\n",
              "      <td>?</td>\n",
              "      <td>Own-child</td>\n",
              "      <td>White</td>\n",
              "      <td>Female</td>\n",
              "      <td>United-States</td>\n",
              "      <td>&lt;=50K</td>\n",
              "    </tr>\n",
              "  </tbody>\n",
              "</table>\n",
              "</div>"
            ],
            "text/plain": [
              "    age  workclass     education  ...  gender native-country income\n",
              "0  <=38    Private          11th  ...    Male  United-States  <=50K\n",
              "1  <=38    Private       HS-grad  ...    Male  United-States  <=50K\n",
              "2  <=38  Local-gov    Assoc-acdm  ...    Male  United-States   >50K\n",
              "3   >38    Private  Some-college  ...    Male  United-States   >50K\n",
              "4  <=38    Special  Some-college  ...  Female  United-States  <=50K\n",
              "\n",
              "[5 rows x 11 columns]"
            ]
          },
          "metadata": {
            "tags": []
          },
          "execution_count": 6
        }
      ]
    },
    {
      "cell_type": "markdown",
      "metadata": {
        "id": "YvZDhZjYsPBM"
      },
      "source": [
        "This function returns array of each column unique attribute array."
      ]
    },
    {
      "cell_type": "code",
      "metadata": {
        "id": "MY_n5eURAkGH"
      },
      "source": [
        "def get_unique_attr( data ):\r\n",
        "    size = data.to_numpy().shape[1]\r\n",
        "    all_uniques = []\r\n",
        "    for i in range(size):\r\n",
        "        all_uniques.append(data.iloc[ : , i ].unique())\r\n",
        "    all_uniques = np.asarray(all_uniques)\r\n",
        "    return all_uniques"
      ],
      "execution_count": null,
      "outputs": []
    },
    {
      "cell_type": "markdown",
      "metadata": {
        "id": "UK8E2APesd86"
      },
      "source": [
        "This function returns array of dictioneries which each dictionary's key is a columns unique attribute and it's value is a 2 in 1 array that indicates coincedence of income status in last column."
      ]
    },
    {
      "cell_type": "code",
      "metadata": {
        "id": "H2SZ9GWpD6Gt"
      },
      "source": [
        "def create_dict( uniques ):\r\n",
        "    a = []\r\n",
        "    for i in range( len( uniques ) ):\r\n",
        "        temp = uniques[i]\r\n",
        "        d = {}\r\n",
        "        for j in range( temp.shape[0] ):\r\n",
        "            d[ temp[ j ] ] = np.zeros((2,1))\r\n",
        "        a.append(d)\r\n",
        "    return np.asarray( a )"
      ],
      "execution_count": null,
      "outputs": []
    },
    {
      "cell_type": "markdown",
      "metadata": {
        "id": "maJsaqFVtBIS"
      },
      "source": [
        "This function fills previous dictionary with train data."
      ]
    },
    {
      "cell_type": "code",
      "metadata": {
        "id": "lBNncxZWBaj-"
      },
      "source": [
        "def count_income( data ):\r\n",
        "    all_uniques = get_unique_attr( data )\r\n",
        "    data = data.to_numpy()\r\n",
        "    uniq_dict = create_dict( all_uniques )\r\n",
        "    for i in range( data.shape[0] ):\r\n",
        "        for j in range( data.shape[1] ):\r\n",
        "            if data[ i , -1 ] == all_uniques[ -1 ][ 0 ] :\r\n",
        "                uniq_dict[ j ][ data[ i , j ] ][ 0 ] += 1\r\n",
        "            elif data[ i , -1 ] == all_uniques[ -1 ][ 1 ] :\r\n",
        "                uniq_dict[ j ][ data[ i , j ] ][ 1 ] += 1\r\n",
        "    return uniq_dict"
      ],
      "execution_count": null,
      "outputs": []
    },
    {
      "cell_type": "markdown",
      "metadata": {
        "id": "fSxf-DWatYJa"
      },
      "source": [
        "Based on counted amounts in previous function, this function calculates probablity.\r\n",
        "#Laplace Smoothing\r\n",
        "It solves this by giving the last word a small non-zero probability for both classes, so that the posterior probabilities don't suddenly drop to zero. to do this, we add one to numenator and add number of columns ( here is 10) to denumerator. it helps the data that has low frequencty in train data to train that it causes many frauds in last decition."
      ]
    },
    {
      "cell_type": "code",
      "metadata": {
        "id": "EA7JV9U2PoG0"
      },
      "source": [
        "def cal_probs( dict_prob , all_uniques ):\r\n",
        "    for i in range( len( dict_prob ) ):\r\n",
        "        for j in range( all_uniques[ i ].shape[0] ):\r\n",
        "            dict_prob[ i ][ all_uniques[ i ][ j ] ][ 0 ] = (dict_prob[ i ][ all_uniques[ i ][ j ] ][ 0 ]+1)/( dict_prob[ -1 ][ all_uniques[ -1 ][ 0 ] ][ 0 ] + len( dict_prob ) )\r\n",
        "            dict_prob[ i ][ all_uniques[ i ][ j ] ][ 1 ] = (dict_prob[ i ][ all_uniques[ i ][ j ] ][ 1 ]+1)/( dict_prob[ -1 ][ all_uniques[ -1 ][ 1 ] ][ 1 ] + len( dict_prob ) )\r\n",
        "    return dict_prob"
      ],
      "execution_count": null,
      "outputs": []
    },
    {
      "cell_type": "markdown",
      "metadata": {
        "id": "JypaTwY0uBe4"
      },
      "source": [
        "This funvtion calculate probablity for each row in given data set and decide that which label should be predicted in each row."
      ]
    },
    {
      "cell_type": "code",
      "metadata": {
        "id": "7agBjgGjJptY"
      },
      "source": [
        "def predict( data , probs ):\r\n",
        "    data = data.to_numpy()\r\n",
        "    labels = np.zeros((data.shape[0],1))\r\n",
        "    for i in range( data.shape[0] ):\r\n",
        "        p_1 = 1\r\n",
        "        p_0 = 1\r\n",
        "        for j in range( data.shape[1] - 1 ):\r\n",
        "            p_1 *= probs[ j ][ data[ i , j ] ][ 1 ]\r\n",
        "            p_0 *= probs[ j ][ data[ i , j ] ][ 0 ]\r\n",
        "        if p_1 > p_0 :\r\n",
        "            labels[ i ] = 1\r\n",
        "    return labels"
      ],
      "execution_count": null,
      "outputs": []
    },
    {
      "cell_type": "markdown",
      "metadata": {
        "id": "ie8xRLnGuSey"
      },
      "source": [
        "Changes each unique values with numbers assigned to it."
      ]
    },
    {
      "cell_type": "code",
      "metadata": {
        "id": "ubOqvNWzV83i"
      },
      "source": [
        "def change_label( labels ):\r\n",
        "    u = labels.unique()\r\n",
        "    labels = labels.to_numpy()\r\n",
        "    temp = np.zeros((labels.shape[0]))\r\n",
        "    for j in range(labels.shape[0]):\r\n",
        "        for i in range( u.shape[0] ):\r\n",
        "            if labels[j] == u[i]:\r\n",
        "                temp[ j ] = i\r\n",
        "    return temp"
      ],
      "execution_count": null,
      "outputs": []
    },
    {
      "cell_type": "markdown",
      "metadata": {
        "id": "NrP4cTCYuYQ8"
      },
      "source": [
        "Calculcates accuracy."
      ]
    },
    {
      "cell_type": "code",
      "metadata": {
        "id": "gz2S0SEhXYHe"
      },
      "source": [
        "def cal_acc( train , test ):\r\n",
        "    uniques = get_unique_attr( train )\r\n",
        "    features_dict = count_income( train )\r\n",
        "    probs = cal_probs( features_dict , uniques )\r\n",
        "    predicted = predict( test , probs )\r\n",
        "    labels = change_label( test.iloc[ : , -1 ] )\r\n",
        "    return (np.sum( labels == predicted[:,0] )*100)/(predicted[:,0].shape[0]) , print_confusion_mat( predicted , labels )"
      ],
      "execution_count": null,
      "outputs": []
    },
    {
      "cell_type": "code",
      "metadata": {
        "id": "GzQt572uq-ds"
      },
      "source": [
        "def print_confusion_mat( predicted , label ):\r\n",
        "    keys = np.unique(predicted)\r\n",
        "    confusion = np.zeros(( 2 , 2 ))\r\n",
        "    for i in range(label.shape[0]):\r\n",
        "        confusion[ int(predicted[ i ])-1 , int(label[ i ])-1 ] += 1\r\n",
        "    return pd.DataFrame(confusion)"
      ],
      "execution_count": null,
      "outputs": []
    },
    {
      "cell_type": "markdown",
      "metadata": {
        "id": "O4ZSbFTDubU_"
      },
      "source": [
        "As shown below for givven data set and then deviding it into test and train and evaluating model, final accuracy is 77%.\r\n"
      ]
    },
    {
      "cell_type": "code",
      "metadata": {
        "colab": {
          "base_uri": "https://localhost:8080/"
        },
        "id": "ttqrGihFYZ8n",
        "outputId": "a8033602-4704-4d83-8427-4146f86b221f"
      },
      "source": [
        "train , test = split_data( income )\r\n",
        "acc , mat = cal_acc( train , test )\r\n",
        "print( acc )"
      ],
      "execution_count": null,
      "outputs": [
        {
          "output_type": "stream",
          "text": [
            "/usr/local/lib/python3.6/dist-packages/numpy/core/_asarray.py:83: VisibleDeprecationWarning: Creating an ndarray from ragged nested sequences (which is a list-or-tuple of lists-or-tuples-or ndarrays with different lengths or shapes) is deprecated. If you meant to do this, you must specify 'dtype=object' when creating the ndarray\n",
            "  return array(a, dtype, copy=False, order=order)\n"
          ],
          "name": "stderr"
        },
        {
          "output_type": "stream",
          "text": [
            "76.89393939393939\n"
          ],
          "name": "stdout"
        }
      ]
    },
    {
      "cell_type": "markdown",
      "metadata": {
        "id": "UNggmL_xun-j"
      },
      "source": [
        "Confusion matrix is given below."
      ]
    },
    {
      "cell_type": "code",
      "metadata": {
        "colab": {
          "base_uri": "https://localhost:8080/",
          "height": 111
        },
        "id": "qrOizb2TrTQm",
        "outputId": "d49c71d3-747b-4578-fa3d-80f2eb87078a"
      },
      "source": [
        "mat"
      ],
      "execution_count": null,
      "outputs": [
        {
          "output_type": "execute_result",
          "data": {
            "text/html": [
              "<div>\n",
              "<style scoped>\n",
              "    .dataframe tbody tr th:only-of-type {\n",
              "        vertical-align: middle;\n",
              "    }\n",
              "\n",
              "    .dataframe tbody tr th {\n",
              "        vertical-align: top;\n",
              "    }\n",
              "\n",
              "    .dataframe thead th {\n",
              "        text-align: right;\n",
              "    }\n",
              "</style>\n",
              "<table border=\"1\" class=\"dataframe\">\n",
              "  <thead>\n",
              "    <tr style=\"text-align: right;\">\n",
              "      <th></th>\n",
              "      <th>0</th>\n",
              "      <th>1</th>\n",
              "    </tr>\n",
              "  </thead>\n",
              "  <tbody>\n",
              "    <tr>\n",
              "      <th>0</th>\n",
              "      <td>1929.0</td>\n",
              "      <td>1859.0</td>\n",
              "    </tr>\n",
              "    <tr>\n",
              "      <th>1</th>\n",
              "      <td>398.0</td>\n",
              "      <td>5582.0</td>\n",
              "    </tr>\n",
              "  </tbody>\n",
              "</table>\n",
              "</div>"
            ],
            "text/plain": [
              "        0       1\n",
              "0  1929.0  1859.0\n",
              "1   398.0  5582.0"
            ]
          },
          "metadata": {
            "tags": []
          },
          "execution_count": 24
        }
      ]
    }
  ]
}