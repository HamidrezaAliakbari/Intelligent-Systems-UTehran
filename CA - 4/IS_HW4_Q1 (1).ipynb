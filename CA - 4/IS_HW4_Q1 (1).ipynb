{
  "nbformat": 4,
  "nbformat_minor": 0,
  "metadata": {
    "colab": {
      "name": "IS_HW4_Q1.ipynb",
      "provenance": [],
      "collapsed_sections": []
    },
    "kernelspec": {
      "name": "python3",
      "display_name": "Python 3"
    },
    "accelerator": "TPU"
  },
  "cells": [
    {
      "cell_type": "markdown",
      "metadata": {
        "id": "_APMoXa3iOiR"
      },
      "source": [
        "#HW 4\r\n",
        "##Question 1\r\n",
        "\r\n"
      ]
    },
    {
      "cell_type": "code",
      "metadata": {
        "id": "Bgpnz0TOTgoB"
      },
      "source": [
        "import pandas as pd\n",
        "import numpy as np\n",
        "import numpy.matlib\n",
        "import math \n",
        "from numpy import linalg as LA\n",
        "from matplotlib import pyplot as plt"
      ],
      "execution_count": 1,
      "outputs": []
    },
    {
      "cell_type": "code",
      "metadata": {
        "colab": {
          "base_uri": "https://localhost:8080/"
        },
        "id": "JjmISOwrDVD8",
        "outputId": "5abd7a5a-5b26-4b8e-e180-3839e9503fa9"
      },
      "source": [
        "from google.colab import drive\n",
        "drive.mount('/content/drive')"
      ],
      "execution_count": 3,
      "outputs": [
        {
          "output_type": "stream",
          "text": [
            "Mounted at /content/drive\n"
          ],
          "name": "stdout"
        }
      ]
    },
    {
      "cell_type": "code",
      "metadata": {
        "id": "LTVvJmnXENVo"
      },
      "source": [
        "train_data = pd.read_csv('/content/drive/My Drive/IS/IS_HW4/Q1/Train_Data.csv', header = None).to_numpy()\n",
        "test_data = pd.read_csv('/content/drive/My Drive/IS/IS_HW4/Q1/Test_Data.csv', header = None).to_numpy()\n",
        "train_labels = pd.read_csv('/content/drive/My Drive/IS/IS_HW4/Q1/Train_Labels.csv', header = None).to_numpy()\n",
        "test_labels = pd.read_csv('/content/drive/My Drive/IS/IS_HW4/Q1/Test_Labels.csv', header = None).to_numpy()"
      ],
      "execution_count": 4,
      "outputs": []
    },
    {
      "cell_type": "code",
      "metadata": {
        "id": "y91XJDP5zVB0"
      },
      "source": [
        "def normalize(x):\r\n",
        "    y = (x - np.mean(x, axis = 0))/np.std(x, axis = 0)\r\n",
        "    return y"
      ],
      "execution_count": 5,
      "outputs": []
    },
    {
      "cell_type": "markdown",
      "metadata": {
        "id": "fTl_Nyb8iYXh"
      },
      "source": [
        "First we normalaize data "
      ]
    },
    {
      "cell_type": "code",
      "metadata": {
        "id": "ILAV0AG40Phi"
      },
      "source": [
        "train_data = normalize(train_data)\r\n",
        "test_data = normalize(test_data)"
      ],
      "execution_count": 6,
      "outputs": []
    },
    {
      "cell_type": "markdown",
      "metadata": {
        "id": "Az8vtTlTidiv"
      },
      "source": [
        "Kmeans class has been defined to have some sort of attributes and methods auch as  regular Kmeans to just check simple algorithm and then main methods for doing majority rule of clustered-data and then pass it to just test it on test data and labels."
      ]
    },
    {
      "cell_type": "code",
      "metadata": {
        "id": "es0ppiW30frj"
      },
      "source": [
        "class Kmeans:\r\n",
        "    def __init__ ( self , n_itter , k ):\r\n",
        "        self.n_itter = n_itter\r\n",
        "        self.k = k\r\n",
        "        self.n_dimensions = 1\r\n",
        "        self.centroids = 0\r\n",
        "        self.clusters = {}\r\n",
        "        self.assigned_labels = {}\r\n",
        "\r\n",
        "    def initial_centroids( self , x ):\r\n",
        "        index = []\r\n",
        "        while len(index) != self.k :\r\n",
        "            temp = np.random.randint(x.shape[0])\r\n",
        "            if temp not in index :\r\n",
        "                index.append( temp )\r\n",
        "        self.centroids = np.zeros((self.k , x.shape[1]))\r\n",
        "        for i in range(self.k):\r\n",
        "            self.centroids[ i , : ] = x[ index[ i ] , : ]\r\n",
        "\r\n",
        "    def distance_calculator( self , x , y ):\r\n",
        "        return ( sum( ( x - y )**2 ) )**0.5\r\n",
        "\r\n",
        "    def initial_clusters( self ):\r\n",
        "        for i in range(self.k):\r\n",
        "            self.clusters[ i ] = np.array([])\r\n",
        "            self.assigned_labels[ i ] = []\r\n",
        "\r\n",
        "    def assign_data( self ,  x  , label):\r\n",
        "        self.initial_clusters()\r\n",
        "        for data_num in range( x.shape[0] ):\r\n",
        "            temp  = []\r\n",
        "            for i in range(self.k):\r\n",
        "                temp.append(self.distance_calculator( self.centroids[ i , : ] , x[ data_num , : ] ))\r\n",
        "            index = np.argmin(temp)\r\n",
        "            self.assigned_labels[ index ].append( label[ data_num ] )\r\n",
        "            if len( self.clusters[ index ] ) == 0 :\r\n",
        "                self.clusters[ index ] = np.array(x[data_num , :], ndmin = 2)\r\n",
        "            else:\r\n",
        "                self.clusters[ index ] = np.concatenate((self.clusters[ index ] , np.array(x[data_num , :], ndmin = 2) ) , axis = 0 )\r\n",
        "\r\n",
        "    def recentrize( self , x):\r\n",
        "        for i in range(self.k):\r\n",
        "            if self.clusters[ i ].shape[0] != 0 :\r\n",
        "                self.centroids[ i , : ] = np.mean(self.clusters[ i ] , axis = 0 )\r\n",
        "            else :\r\n",
        "                self.centroids[ i , : ] = np.zeros((1,x.shape[1]))\r\n",
        "    \r\n",
        "    def run( self , x , labels ):\r\n",
        "        self.initial_centroids( x )\r\n",
        "        i = 0 \r\n",
        "        temp = 0\r\n",
        "        while np.any( temp != self.centroids ):\r\n",
        "            self.assign_data( x , labels )\r\n",
        "            temp = self.centroids\r\n",
        "            self.recentrize( x )\r\n",
        "            i = i + 1\r\n",
        "            if i == self.n_itter :\r\n",
        "                print(\"max itter reached! \\n\",self.k)\r\n",
        "                break\r\n",
        "        return self.centroids\r\n",
        "\r\n",
        "    def cal_loss(self):\r\n",
        "        loss = 0\r\n",
        "        for i in range( self.k):\r\n",
        "            if np.all( self.centroids[i , : ] != 0):\r\n",
        "                loss = loss + np.sum(( self.clusters[i] - self.centroids[i , : ])**2)\r\n",
        "        return loss\r\n",
        "\r\n",
        "    def test( self , test , centroids ):\r\n",
        "        clusters = {}\r\n",
        "        k = centroids.shape[0]\r\n",
        "        for i in range(k):\r\n",
        "            clusters[ i ] = np.array([])\r\n",
        "        for data_num in range( test.shape[0] ):\r\n",
        "            temp  = []\r\n",
        "            for i in range(k):\r\n",
        "                temp.append(self.distance_calculator( centroids[ i , : ] , test[ data_num , : ] ))\r\n",
        "            index = np.argmin(temp)\r\n",
        "            clusters[ index ] = np.concatenate((self.clusters[ index ] , np.array(test[data_num , :], ndmin = 2) ) , axis = 0 )\r\n",
        "        return clusters\r\n",
        "\r\n",
        "    def majority_vote( self ):\r\n",
        "        temp = {}\r\n",
        "        for i in range(self.k):\r\n",
        "            unique , count = np.unique( np.array(self.assigned_labels[i]) , return_counts=True)\r\n",
        "            temp[ unique[ np.argmax( count ) ] ] = self.centroids[ i ]\r\n",
        "        return temp\r\n",
        "    \r\n",
        "    def test_majority( self , test  , centroids ):\r\n",
        "        keys = list(centroids.keys())\r\n",
        "        predicted = []\r\n",
        "        for data_num in range( test.shape[0] ):\r\n",
        "            temp  = []\r\n",
        "            for center in centroids.keys():\r\n",
        "                temp.append(self.distance_calculator( centroids[center] , test[ data_num , : ] ))\r\n",
        "            index = np.argmin(temp)\r\n",
        "            predicted.append( keys[ index ] )\r\n",
        "        return predicted\r\n",
        "\r\n",
        "    def cal_acc( self , predicted , label ):\r\n",
        "        return np.sum( predicted == label )/label.shape[0]\r\n",
        "\r\n",
        "    def print_confusion_mat( self , predicted , label ):\r\n",
        "        k = np.unique(label).shape[0]\r\n",
        "        keys = np.unique(predicted)\r\n",
        "        confusion = np.zeros(( k , k ))\r\n",
        "        for i in range(label.shape[0]):\r\n",
        "            confusion[ predicted[ i ]-1 , label[ i ]-1 ] += 1\r\n",
        "        return pd.DataFrame(confusion)"
      ],
      "execution_count": 113,
      "outputs": []
    },
    {
      "cell_type": "markdown",
      "metadata": {
        "id": "1sTCZShOi8-Z"
      },
      "source": [
        "we had a limit of 400 to maximum itteration for convergence of centroids. because of given labels that had 3 unique labels, so , i pass 3 as second attribute as an illustrator of 3-clusters."
      ]
    },
    {
      "cell_type": "code",
      "metadata": {
        "id": "3klY068MK0MQ"
      },
      "source": [
        "kmeans = Kmeans(400, 3 )\r\n",
        "\r\n",
        "centroids = kmeans.run(train_data,train_labels)\r\n",
        "centroids = kmeans.majority_vote()\r\n",
        "predicted = kmeans.test_majority(test_data , centroids)\r\n",
        "acc = kmeans.cal_acc(np.array(predicted,ndmin=2).T , test_labels)"
      ],
      "execution_count": 114,
      "outputs": []
    },
    {
      "cell_type": "markdown",
      "metadata": {
        "id": "vnTh5dImqjFW"
      },
      "source": [
        "Confusion Mat is shown below:"
      ]
    },
    {
      "cell_type": "code",
      "metadata": {
        "colab": {
          "base_uri": "https://localhost:8080/",
          "height": 142
        },
        "id": "3vkad8v0oKYM",
        "outputId": "e40b8fc3-daa7-4a35-ff89-c11640085bd0"
      },
      "source": [
        "mat = kmeans.print_confusion_mat(predicted , test_labels)\r\n",
        "mat"
      ],
      "execution_count": 115,
      "outputs": [
        {
          "output_type": "execute_result",
          "data": {
            "text/html": [
              "<div>\n",
              "<style scoped>\n",
              "    .dataframe tbody tr th:only-of-type {\n",
              "        vertical-align: middle;\n",
              "    }\n",
              "\n",
              "    .dataframe tbody tr th {\n",
              "        vertical-align: top;\n",
              "    }\n",
              "\n",
              "    .dataframe thead th {\n",
              "        text-align: right;\n",
              "    }\n",
              "</style>\n",
              "<table border=\"1\" class=\"dataframe\">\n",
              "  <thead>\n",
              "    <tr style=\"text-align: right;\">\n",
              "      <th></th>\n",
              "      <th>0</th>\n",
              "      <th>1</th>\n",
              "      <th>2</th>\n",
              "    </tr>\n",
              "  </thead>\n",
              "  <tbody>\n",
              "    <tr>\n",
              "      <th>0</th>\n",
              "      <td>7.0</td>\n",
              "      <td>0.0</td>\n",
              "      <td>0.0</td>\n",
              "    </tr>\n",
              "    <tr>\n",
              "      <th>1</th>\n",
              "      <td>2.0</td>\n",
              "      <td>8.0</td>\n",
              "      <td>0.0</td>\n",
              "    </tr>\n",
              "    <tr>\n",
              "      <th>2</th>\n",
              "      <td>0.0</td>\n",
              "      <td>2.0</td>\n",
              "      <td>14.0</td>\n",
              "    </tr>\n",
              "  </tbody>\n",
              "</table>\n",
              "</div>"
            ],
            "text/plain": [
              "     0    1     2\n",
              "0  7.0  0.0   0.0\n",
              "1  2.0  8.0   0.0\n",
              "2  0.0  2.0  14.0"
            ]
          },
          "metadata": {
            "tags": []
          },
          "execution_count": 115
        }
      ]
    },
    {
      "cell_type": "code",
      "metadata": {
        "colab": {
          "base_uri": "https://localhost:8080/"
        },
        "id": "KYphJKP5p5Jz",
        "outputId": "a49e17a4-0b5e-447d-daee-ae792fa0bef5"
      },
      "source": [
        "test_labels.shape"
      ],
      "execution_count": 109,
      "outputs": [
        {
          "output_type": "execute_result",
          "data": {
            "text/plain": [
              "(33, 1)"
            ]
          },
          "metadata": {
            "tags": []
          },
          "execution_count": 109
        }
      ]
    },
    {
      "cell_type": "markdown",
      "metadata": {
        "id": "yQWf2iAuj5gG"
      },
      "source": [
        "after clustering data based on train data we should test it on test data that accuracy is shown below : "
      ]
    },
    {
      "cell_type": "code",
      "metadata": {
        "colab": {
          "base_uri": "https://localhost:8080/"
        },
        "id": "46jXBhGTZb5q",
        "outputId": "72189d18-54c9-48e1-f74f-bcc867001238"
      },
      "source": [
        "print( \"Accuracy on test data is :\" + str(acc*100) + \"%\")"
      ],
      "execution_count": 85,
      "outputs": [
        {
          "output_type": "stream",
          "text": [
            "Accuracy on test data is :90.9090909090909%\n"
          ],
          "name": "stdout"
        }
      ]
    },
    {
      "cell_type": "markdown",
      "metadata": {
        "id": "ZxkKAeX0mS_2"
      },
      "source": [
        "This data frame shows how labels and predicted ones match or not , Third column indicates mathing status"
      ]
    },
    {
      "cell_type": "code",
      "metadata": {
        "colab": {
          "base_uri": "https://localhost:8080/",
          "height": 1000
        },
        "id": "0zTTpaOTX6tx",
        "outputId": "2c9ef369-f8ca-455b-def2-1300c0d2b005"
      },
      "source": [
        "pd.DataFrame(np.concatenate((np.array(predicted,ndmin=2).T ,test_labels, np.array(np.array(predicted,ndmin=2).T ==test_labels)) ,axis=1) )"
      ],
      "execution_count": 88,
      "outputs": [
        {
          "output_type": "execute_result",
          "data": {
            "text/html": [
              "<div>\n",
              "<style scoped>\n",
              "    .dataframe tbody tr th:only-of-type {\n",
              "        vertical-align: middle;\n",
              "    }\n",
              "\n",
              "    .dataframe tbody tr th {\n",
              "        vertical-align: top;\n",
              "    }\n",
              "\n",
              "    .dataframe thead th {\n",
              "        text-align: right;\n",
              "    }\n",
              "</style>\n",
              "<table border=\"1\" class=\"dataframe\">\n",
              "  <thead>\n",
              "    <tr style=\"text-align: right;\">\n",
              "      <th></th>\n",
              "      <th>0</th>\n",
              "      <th>1</th>\n",
              "      <th>2</th>\n",
              "    </tr>\n",
              "  </thead>\n",
              "  <tbody>\n",
              "    <tr>\n",
              "      <th>0</th>\n",
              "      <td>1</td>\n",
              "      <td>1</td>\n",
              "      <td>1</td>\n",
              "    </tr>\n",
              "    <tr>\n",
              "      <th>1</th>\n",
              "      <td>3</td>\n",
              "      <td>3</td>\n",
              "      <td>1</td>\n",
              "    </tr>\n",
              "    <tr>\n",
              "      <th>2</th>\n",
              "      <td>1</td>\n",
              "      <td>1</td>\n",
              "      <td>1</td>\n",
              "    </tr>\n",
              "    <tr>\n",
              "      <th>3</th>\n",
              "      <td>3</td>\n",
              "      <td>3</td>\n",
              "      <td>1</td>\n",
              "    </tr>\n",
              "    <tr>\n",
              "      <th>4</th>\n",
              "      <td>3</td>\n",
              "      <td>2</td>\n",
              "      <td>0</td>\n",
              "    </tr>\n",
              "    <tr>\n",
              "      <th>5</th>\n",
              "      <td>1</td>\n",
              "      <td>1</td>\n",
              "      <td>1</td>\n",
              "    </tr>\n",
              "    <tr>\n",
              "      <th>6</th>\n",
              "      <td>1</td>\n",
              "      <td>1</td>\n",
              "      <td>1</td>\n",
              "    </tr>\n",
              "    <tr>\n",
              "      <th>7</th>\n",
              "      <td>1</td>\n",
              "      <td>1</td>\n",
              "      <td>1</td>\n",
              "    </tr>\n",
              "    <tr>\n",
              "      <th>8</th>\n",
              "      <td>2</td>\n",
              "      <td>2</td>\n",
              "      <td>1</td>\n",
              "    </tr>\n",
              "    <tr>\n",
              "      <th>9</th>\n",
              "      <td>1</td>\n",
              "      <td>1</td>\n",
              "      <td>1</td>\n",
              "    </tr>\n",
              "    <tr>\n",
              "      <th>10</th>\n",
              "      <td>1</td>\n",
              "      <td>1</td>\n",
              "      <td>1</td>\n",
              "    </tr>\n",
              "    <tr>\n",
              "      <th>11</th>\n",
              "      <td>3</td>\n",
              "      <td>3</td>\n",
              "      <td>1</td>\n",
              "    </tr>\n",
              "    <tr>\n",
              "      <th>12</th>\n",
              "      <td>3</td>\n",
              "      <td>3</td>\n",
              "      <td>1</td>\n",
              "    </tr>\n",
              "    <tr>\n",
              "      <th>13</th>\n",
              "      <td>3</td>\n",
              "      <td>3</td>\n",
              "      <td>1</td>\n",
              "    </tr>\n",
              "    <tr>\n",
              "      <th>14</th>\n",
              "      <td>1</td>\n",
              "      <td>1</td>\n",
              "      <td>1</td>\n",
              "    </tr>\n",
              "    <tr>\n",
              "      <th>15</th>\n",
              "      <td>2</td>\n",
              "      <td>2</td>\n",
              "      <td>1</td>\n",
              "    </tr>\n",
              "    <tr>\n",
              "      <th>16</th>\n",
              "      <td>3</td>\n",
              "      <td>3</td>\n",
              "      <td>1</td>\n",
              "    </tr>\n",
              "    <tr>\n",
              "      <th>17</th>\n",
              "      <td>3</td>\n",
              "      <td>3</td>\n",
              "      <td>1</td>\n",
              "    </tr>\n",
              "    <tr>\n",
              "      <th>18</th>\n",
              "      <td>3</td>\n",
              "      <td>3</td>\n",
              "      <td>1</td>\n",
              "    </tr>\n",
              "    <tr>\n",
              "      <th>19</th>\n",
              "      <td>1</td>\n",
              "      <td>1</td>\n",
              "      <td>1</td>\n",
              "    </tr>\n",
              "    <tr>\n",
              "      <th>20</th>\n",
              "      <td>3</td>\n",
              "      <td>3</td>\n",
              "      <td>1</td>\n",
              "    </tr>\n",
              "    <tr>\n",
              "      <th>21</th>\n",
              "      <td>2</td>\n",
              "      <td>2</td>\n",
              "      <td>1</td>\n",
              "    </tr>\n",
              "    <tr>\n",
              "      <th>22</th>\n",
              "      <td>3</td>\n",
              "      <td>2</td>\n",
              "      <td>0</td>\n",
              "    </tr>\n",
              "    <tr>\n",
              "      <th>23</th>\n",
              "      <td>2</td>\n",
              "      <td>2</td>\n",
              "      <td>1</td>\n",
              "    </tr>\n",
              "    <tr>\n",
              "      <th>24</th>\n",
              "      <td>1</td>\n",
              "      <td>2</td>\n",
              "      <td>0</td>\n",
              "    </tr>\n",
              "    <tr>\n",
              "      <th>25</th>\n",
              "      <td>2</td>\n",
              "      <td>2</td>\n",
              "      <td>1</td>\n",
              "    </tr>\n",
              "    <tr>\n",
              "      <th>26</th>\n",
              "      <td>3</td>\n",
              "      <td>3</td>\n",
              "      <td>1</td>\n",
              "    </tr>\n",
              "    <tr>\n",
              "      <th>27</th>\n",
              "      <td>3</td>\n",
              "      <td>3</td>\n",
              "      <td>1</td>\n",
              "    </tr>\n",
              "    <tr>\n",
              "      <th>28</th>\n",
              "      <td>2</td>\n",
              "      <td>2</td>\n",
              "      <td>1</td>\n",
              "    </tr>\n",
              "    <tr>\n",
              "      <th>29</th>\n",
              "      <td>3</td>\n",
              "      <td>3</td>\n",
              "      <td>1</td>\n",
              "    </tr>\n",
              "    <tr>\n",
              "      <th>30</th>\n",
              "      <td>3</td>\n",
              "      <td>3</td>\n",
              "      <td>1</td>\n",
              "    </tr>\n",
              "    <tr>\n",
              "      <th>31</th>\n",
              "      <td>2</td>\n",
              "      <td>2</td>\n",
              "      <td>1</td>\n",
              "    </tr>\n",
              "    <tr>\n",
              "      <th>32</th>\n",
              "      <td>3</td>\n",
              "      <td>3</td>\n",
              "      <td>1</td>\n",
              "    </tr>\n",
              "  </tbody>\n",
              "</table>\n",
              "</div>"
            ],
            "text/plain": [
              "    0  1  2\n",
              "0   1  1  1\n",
              "1   3  3  1\n",
              "2   1  1  1\n",
              "3   3  3  1\n",
              "4   3  2  0\n",
              "5   1  1  1\n",
              "6   1  1  1\n",
              "7   1  1  1\n",
              "8   2  2  1\n",
              "9   1  1  1\n",
              "10  1  1  1\n",
              "11  3  3  1\n",
              "12  3  3  1\n",
              "13  3  3  1\n",
              "14  1  1  1\n",
              "15  2  2  1\n",
              "16  3  3  1\n",
              "17  3  3  1\n",
              "18  3  3  1\n",
              "19  1  1  1\n",
              "20  3  3  1\n",
              "21  2  2  1\n",
              "22  3  2  0\n",
              "23  2  2  1\n",
              "24  1  2  0\n",
              "25  2  2  1\n",
              "26  3  3  1\n",
              "27  3  3  1\n",
              "28  2  2  1\n",
              "29  3  3  1\n",
              "30  3  3  1\n",
              "31  2  2  1\n",
              "32  3  3  1"
            ]
          },
          "metadata": {
            "tags": []
          },
          "execution_count": 88
        }
      ]
    },
    {
      "cell_type": "markdown",
      "metadata": {
        "id": "o8cpTiDPmgtW"
      },
      "source": [
        "Although numbers of main uniques labels can be dedicated from given files but as an extra work on data we can just try to set more centroids to just try our best to enhance accuracy. Despite the fact that adding more centroids can help accuracy , because there is only 3 given uniq labels , if we try to set more clusters than 3 then we are just omitting some far clusters  to get a better accuracy."
      ]
    },
    {
      "cell_type": "code",
      "metadata": {
        "colab": {
          "base_uri": "https://localhost:8080/",
          "height": 435
        },
        "id": "mw3bfqDHW0rU",
        "outputId": "51507ff5-8123-4a1f-9052-cbeed96a9cd1"
      },
      "source": [
        " acc = []\r\n",
        " for i in range(10) :  \r\n",
        "    kmeans = Kmeans(400, i+1 )\r\n",
        "    centroids = kmeans.run(train_data,train_labels)\r\n",
        "    centroids = kmeans.majority_vote()\r\n",
        "    predicted = kmeans.test_majority(test_data , centroids)\r\n",
        "    acc.append(kmeans.cal_acc(np.array(predicted,ndmin=2).T , test_labels))\r\n",
        "plt.plot(acc)\r\n",
        "xi = list(np.arange(1,10))\r\n",
        "plt.xticks(xi)"
      ],
      "execution_count": 76,
      "outputs": [
        {
          "output_type": "execute_result",
          "data": {
            "text/plain": [
              "([<matplotlib.axis.XTick at 0x7fce1a4f50b8>,\n",
              "  <matplotlib.axis.XTick at 0x7fce1a4f5080>,\n",
              "  <matplotlib.axis.XTick at 0x7fce1a4efc88>,\n",
              "  <matplotlib.axis.XTick at 0x7fce1a4968d0>,\n",
              "  <matplotlib.axis.XTick at 0x7fce1a496d68>,\n",
              "  <matplotlib.axis.XTick at 0x7fce1a49f240>,\n",
              "  <matplotlib.axis.XTick at 0x7fce1a49f6d8>,\n",
              "  <matplotlib.axis.XTick at 0x7fce1a49fb70>,\n",
              "  <matplotlib.axis.XTick at 0x7fce1a4a70b8>],\n",
              " <a list of 9 Text major ticklabel objects>)"
            ]
          },
          "metadata": {
            "tags": []
          },
          "execution_count": 76
        },
        {
          "output_type": "display_data",
          "data": {
            "image/png": "[encoded data removed]",
            "text/plain": [
              "<Figure size 432x288 with 1 Axes>"
            ]
          },
          "metadata": {
            "tags": [],
            "needs_background": "light"
          }
        }
      ]
    },
    {
      "cell_type": "code",
      "metadata": {
        "colab": {
          "base_uri": "https://localhost:8080/"
        },
        "id": "oCLkpvwwRnQp",
        "outputId": "3e7313c6-fba9-49f1-c338-826d523dce7f"
      },
      "source": [
        "a = np.array([1,2,3,4,2,3,1,3,2,3,1,2,3,12,5])\r\n",
        "c,d = np.unique(a,return_counts=True)\r\n",
        "np.argmax(d)"
      ],
      "execution_count": 27,
      "outputs": [
        {
          "output_type": "execute_result",
          "data": {
            "text/plain": [
              "2"
            ]
          },
          "metadata": {
            "tags": []
          },
          "execution_count": 27
        }
      ]
    },
    {
      "cell_type": "code",
      "metadata": {
        "colab": {
          "base_uri": "https://localhost:8080/",
          "height": 792
        },
        "id": "elOwxfIJWQE2",
        "outputId": "8a8bc816-6758-407b-a31a-c15d2c168af9"
      },
      "source": [
        "temp = []\r\n",
        "for i in range(30):\r\n",
        "    a = []\r\n",
        "    for j in range(10):\r\n",
        "        kmeans = Kmeans(400, i + 1 )\r\n",
        "        centroids = kmeans.run(train_data,train_labels)\r\n",
        "        a.append(kmeans.cal_loss())\r\n",
        "    temp.append(np.mean(a))\r\n",
        "plt.plot(temp)\r\n",
        "plt.xticks(list(np.arange(len(temp))))"
      ],
      "execution_count": 92,
      "outputs": [
        {
          "output_type": "execute_result",
          "data": {
            "text/plain": [
              "([<matplotlib.axis.XTick at 0x7fce1b909358>,\n",
              "  <matplotlib.axis.XTick at 0x7fce1b909048>,\n",
              "  <matplotlib.axis.XTick at 0x7fce1b09bb70>,\n",
              "  <matplotlib.axis.XTick at 0x7fce1a3c3cc0>,\n",
              "  <matplotlib.axis.XTick at 0x7fce1a3cc198>,\n",
              "  <matplotlib.axis.XTick at 0x7fce1a3cc630>,\n",
              "  <matplotlib.axis.XTick at 0x7fce1a3ccac8>,\n",
              "  <matplotlib.axis.XTick at 0x7fce1a3ccb70>,\n",
              "  <matplotlib.axis.XTick at 0x7fce1a3cceb8>,\n",
              "  <matplotlib.axis.XTick at 0x7fce1a356390>,\n",
              "  <matplotlib.axis.XTick at 0x7fce1a356828>,\n",
              "  <matplotlib.axis.XTick at 0x7fce1a356cc0>,\n",
              "  <matplotlib.axis.XTick at 0x7fce1a35d198>,\n",
              "  <matplotlib.axis.XTick at 0x7fce1a35d630>,\n",
              "  <matplotlib.axis.XTick at 0x7fce1a35dac8>,\n",
              "  <matplotlib.axis.XTick at 0x7fce1a35df60>,\n",
              "  <matplotlib.axis.XTick at 0x7fce1a35d780>,\n",
              "  <matplotlib.axis.XTick at 0x7fce1a356c88>,\n",
              "  <matplotlib.axis.XTick at 0x7fce1a3cc780>,\n",
              "  <matplotlib.axis.XTick at 0x7fce1a3666a0>,\n",
              "  <matplotlib.axis.XTick at 0x7fce1a366b38>,\n",
              "  <matplotlib.axis.XTick at 0x7fce1a366d68>,\n",
              "  <matplotlib.axis.XTick at 0x7fce1a36f4a8>,\n",
              "  <matplotlib.axis.XTick at 0x7fce1a36f940>,\n",
              "  <matplotlib.axis.XTick at 0x7fce1a36fdd8>,\n",
              "  <matplotlib.axis.XTick at 0x7fce1a3792b0>,\n",
              "  <matplotlib.axis.XTick at 0x7fce1a36f7b8>,\n",
              "  <matplotlib.axis.XTick at 0x7fce1a366a90>,\n",
              "  <matplotlib.axis.XTick at 0x7fce1a36f198>,\n",
              "  <matplotlib.axis.XTick at 0x7fce1a379940>],\n",
              " <a list of 30 Text major ticklabel objects>)"
            ]
          },
          "metadata": {
            "tags": []
          },
          "execution_count": 92
        },
        {
          "output_type": "display_data",
          "data": {
            "image/png": "[encoded data removed]",
            "text/plain": [
              "<Figure size 432x288 with 1 Axes>"
            ]
          },
          "metadata": {
            "tags": [],
            "needs_background": "light"
          }
        }
      ]
    },
    {
      "cell_type": "markdown",
      "metadata": {
        "id": "5j0vtGcCnTPY"
      },
      "source": [
        "Figure is showing how a expected cost of dedicated centroids can get less by adding up numbers of centroids."
      ]
    },
    {
      "cell_type": "code",
      "metadata": {
        "id": "zde4fyQYYcHc"
      },
      "source": [
        ""
      ],
      "execution_count": null,
      "outputs": []
    }
  ]
}