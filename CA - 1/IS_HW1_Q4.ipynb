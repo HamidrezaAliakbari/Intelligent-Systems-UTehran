{
  "nbformat": 4,
  "nbformat_minor": 0,
  "metadata": {
    "colab": {
      "name": "IS_HW1_Q4",
      "provenance": [],
      "collapsed_sections": []
    },
    "kernelspec": {
      "name": "python3",
      "display_name": "Python 3"
    }
  },
  "cells": [
    {
      "cell_type": "code",
      "metadata": {
        "id": "E7zUVk7OcE-M"
      },
      "source": [
        "import pandas as pd\n",
        "import numpy as np\n",
        "import numpy.matlib\n",
        "import math \n",
        "from numpy import linalg as LA"
      ],
      "execution_count": 1,
      "outputs": []
    },
    {
      "cell_type": "code",
      "metadata": {
        "id": "m4uCDWVBdZr1",
        "outputId": "5744037d-d7cd-4e8a-dc4b-2924f329ab54",
        "colab": {
          "base_uri": "https://localhost:8080/"
        }
      },
      "source": [
        "from google.colab import drive\n",
        "drive.mount('/content/drive')"
      ],
      "execution_count": 2,
      "outputs": [
        {
          "output_type": "stream",
          "text": [
            "Mounted at /content/drive\n"
          ],
          "name": "stdout"
        }
      ]
    },
    {
      "cell_type": "markdown",
      "metadata": {
        "id": "3ClF-p410eIq"
      },
      "source": [
        ""
      ]
    },
    {
      "cell_type": "markdown",
      "metadata": {
        "id": "I1ADh01pkeLd"
      },
      "source": [
        "**Question 4**\n"
      ]
    },
    {
      "cell_type": "code",
      "metadata": {
        "id": "sVhH32RHkcjr"
      },
      "source": [
        "train_data = pd.read_csv('/content/drive/My Drive/IS_HW1/Question 4/train_data.csv', header = None).to_numpy()\n",
        "train_labels = pd.read_csv('/content/drive/My Drive/IS_HW1/Question 4/train_labels.csv', header = None).to_numpy()\n",
        "test_data = pd.read_csv('/content/drive/My Drive/IS_HW1/Question 4/test_data.csv', header = None).to_numpy()\n",
        "test_labels = pd.read_csv('/content/drive/My Drive/IS_HW1/Question 4/test_labels.csv', header = None).to_numpy()\n",
        "\n",
        "ntrain_data = (train_data - np.min(train_data) )/ (np.max(train_data)-np.min(train_data))\n",
        "ntest_data = (test_data -np.min(test_data) )/ (np.max(test_data)-np.min(test_data))\n",
        "\n",
        "def normalize(x):\n",
        "    y = (x - np.mean(x))/np.std(x)\n",
        "    return y\n",
        "\n",
        "ntrain_data = np.zeros_like(train_data)\n",
        "for i in range(np.size(train_data,1)):\n",
        "    ntrain_data[:,i] = normalize(train_data[:,i])\n",
        "  \n",
        "ntest_data = np.zeros_like(test_data)\n",
        "for i in range(np.size(test_data,1)):\n",
        "    ntest_data[:,i] = normalize(test_data[:,i])\n"
      ],
      "execution_count": 3,
      "outputs": []
    },
    {
      "cell_type": "code",
      "metadata": {
        "id": "QyQ-mT8JUS--"
      },
      "source": [
        "def calculate_norm(trainData, testData, normOption ):\n",
        "  calculated_norm = np.zeros((trainData[:,1].shape [0], 1))\n",
        "  repeatedTestData = np.matlib.repmat(testData, trainData[:,1].shape [0], 1)\n",
        "  if normOption == 1:\n",
        "    calculated_norm = LA.norm(trainData - repeatedTestData, axis = 1)\n",
        "    return calculated_norm\n",
        "  elif normOption == 2:\n",
        "    calculated_norm = LA.norm(trainData - repeatedTestData, np.inf, axis = 1 )\n",
        "    return calculated_norm\n",
        "  elif normOption == 3:\n",
        "    calculated_norm = LA.norm(trainData - repeatedTestData, 1, axis = 1)\n",
        "    return calculated_norm    "
      ],
      "execution_count": 4,
      "outputs": []
    },
    {
      "cell_type": "code",
      "metadata": {
        "id": "2BjEhRUyiL4a"
      },
      "source": [
        "def match_label_norm(labels, norms):\n",
        "  dict = {}\n",
        "  for feature in range(labels.shape [0]):\n",
        "    dict[ norms[feature] ]=labels[feature] \n",
        "  return dict"
      ],
      "execution_count": 5,
      "outputs": []
    },
    {
      "cell_type": "code",
      "metadata": {
        "id": "JtjsPJ2V7MF0"
      },
      "source": [
        "def find_label(k, norm_label):\n",
        "  sorted_labels = np.zeros(k)\n",
        "  temp = sorted(norm_label)\n",
        "  for i  in range(k):\n",
        "    sorted_labels[i] = norm_label[ temp[i] ]\n",
        "  list_sorted = sorted_labels.tolist()\n",
        "  return max(set(list_sorted), key=list_sorted.count)"
      ],
      "execution_count": 6,
      "outputs": []
    },
    {
      "cell_type": "code",
      "metadata": {
        "id": "2FTX4M2M8sHj"
      },
      "source": [
        "def knn(k, norm_option, ptrain_data, ptest_data, train_labels, test_labels):\n",
        "  predicted_labels = np.zeros((test_labels.shape [0],1))\n",
        "  calculated_norm = np.zeros((ptrain_data.shape [0], 1))\n",
        "  for data in range(ptest_data.shape [0]):\n",
        "    calculated_norm = calculate_norm(ptrain_data, ptest_data[data,:], norm_option )\n",
        "    label_norm = match_label_norm(train_labels, calculated_norm)\n",
        "    label = find_label(k, label_norm)\n",
        "    predicted_labels[data] = label\n",
        "  return (np.sum( predicted_labels==test_labels )/3500)*100\n",
        "  #return predicted_labels , label , calculated_norm, label_norm\n"
      ],
      "execution_count": 7,
      "outputs": []
    },
    {
      "cell_type": "code",
      "metadata": {
        "id": "3MCn4U8Z6Wwf",
        "outputId": "1a0cebe8-b19a-4d2e-d9dd-2eebb3789974",
        "colab": {
          "base_uri": "https://localhost:8080/"
        }
      },
      "source": [
        "knnfork = np.zeros((4,1))\n",
        "k = [2, 5, 10, 50]\n",
        "for i in range(4):\n",
        "  knnfork[i,0]= knn(k[i],1, train_data, test_data, train_labels, test_labels)\n",
        "for i in range(4):\n",
        "  temp = 'Correctness of KNN for norm 2 and k = ' + str(k[i]) + ' is; ' +str( knnfork[i]) + '%' +'\\n'\n",
        "  print(temp)"
      ],
      "execution_count": 14,
      "outputs": [
        {
          "output_type": "stream",
          "text": [
            "Correctness of KNN for norm 2 and k = 2 is; [15.65714286]%\n",
            "\n",
            "Correctness of KNN for norm 2 and k = 5 is; [14.77142857]%\n",
            "\n",
            "Correctness of KNN for norm 2 and k = 10 is; [13.88571429]%\n",
            "\n",
            "Correctness of KNN for norm 2 and k = 50 is; [14.28571429]%\n",
            "\n"
          ],
          "name": "stdout"
        }
      ]
    },
    {
      "cell_type": "code",
      "metadata": {
        "id": "nauJunoAG7_Y"
      },
      "source": [
        "knnfork = np.zeros((4,1))\n",
        "k = [2, 5, 10, 50]\n",
        "for i in range(4):\n",
        "  knnfork[i,0]= knn(k[i],1, ntrain_data, ntest_data, train_labels, test_labels)"
      ],
      "execution_count": 8,
      "outputs": []
    },
    {
      "cell_type": "code",
      "metadata": {
        "id": "Ys5V7xdtBCzU",
        "outputId": "3d152bbf-d1f6-4bdf-ce1d-4bd60c14e0ae",
        "colab": {
          "base_uri": "https://localhost:8080/"
        }
      },
      "source": [
        "for i in range(4):\n",
        "  temp = 'Correctness of KNN for norm 2 and k = ' + str(k[3-i]) + ' is; ' +str( knnfork[i]) + '%' +'\\n'\n",
        "  print(temp)"
      ],
      "execution_count": 9,
      "outputs": [
        {
          "output_type": "stream",
          "text": [
            "Correctness of KNN for norm 2 and k = 2 is; [76.68571429]%\n",
            "\n",
            "Correctness of KNN for norm 2 and k = 5 is; [76.22857143]%\n",
            "\n",
            "Correctness of KNN for norm 2 and k = 10 is; [74.34285714]%\n",
            "\n",
            "Correctness of KNN for norm 2 and k = 50 is; [62.28571429]%\n",
            "\n"
          ],
          "name": "stdout"
        }
      ]
    },
    {
      "cell_type": "markdown",
      "metadata": {
        "id": "9l1Ge8L--Q_O"
      },
      "source": [
        "**Part B**"
      ]
    },
    {
      "cell_type": "code",
      "metadata": {
        "id": "3Cdofk1n2HsE",
        "outputId": "afd5ce72-3aaa-40b2-a75e-71fccbff06cc",
        "colab": {
          "base_uri": "https://localhost:8080/"
        }
      },
      "source": [
        "\n",
        "knn(1, 1, ntrain_data, ntest_data, train_labels, test_labels)"
      ],
      "execution_count": 15,
      "outputs": [
        {
          "output_type": "execute_result",
          "data": {
            "text/plain": [
              "77.51428571428572"
            ]
          },
          "metadata": {
            "tags": []
          },
          "execution_count": 15
        }
      ]
    },
    {
      "cell_type": "code",
      "metadata": {
        "id": "fxe8_EG5-LqG",
        "outputId": "7f73aab6-a326-4cd5-ec17-51ae897dcb69",
        "colab": {
          "base_uri": "https://localhost:8080/"
        }
      },
      "source": [
        "knn(100, 1, ntrain_data, ntest_data, train_labels, test_labels)"
      ],
      "execution_count": 16,
      "outputs": [
        {
          "output_type": "execute_result",
          "data": {
            "text/plain": [
              "54.028571428571425"
            ]
          },
          "metadata": {
            "tags": []
          },
          "execution_count": 16
        }
      ]
    },
    {
      "cell_type": "markdown",
      "metadata": {
        "id": "SW0kSuAS-WvX"
      },
      "source": [
        "**Part c**"
      ]
    },
    {
      "cell_type": "code",
      "metadata": {
        "id": "2J6stnEr-dIG",
        "outputId": "207e6531-215b-4608-e411-e286ff94583e",
        "colab": {
          "base_uri": "https://localhost:8080/"
        }
      },
      "source": [
        "knnfork = np.zeros((3,1))\n",
        "k = [1,2,3]\n",
        "for i in range(3):\n",
        "  knnfork[i,0]= knn(2,k[i], ntrain_data, ntest_data, train_labels, test_labels)\n",
        "for i in range(3):\n",
        "  temp = 'Correctness of KNN for norm:'+str(k[i])+' and k = 2 is; ' +str( knnfork[i]) + '%' +'\\n'\n",
        "  print(temp)"
      ],
      "execution_count": 18,
      "outputs": [
        {
          "output_type": "stream",
          "text": [
            "Correctness of KNN for norm:1 and k = 2 is; [76.68571429]%\n",
            "\n",
            "Correctness of KNN for norm:2 and k = 2 is; [54.25714286]%\n",
            "\n",
            "Correctness of KNN for norm:3 and k = 2 is; [77.11428571]%\n",
            "\n"
          ],
          "name": "stdout"
        }
      ]
    },
    {
      "cell_type": "markdown",
      "metadata": {
        "id": "QiFboQA3u_bk"
      },
      "source": [
        ""
      ]
    },
    {
      "cell_type": "code",
      "metadata": {
        "id": "AL8pQWi8CdQG",
        "outputId": "29e23770-728b-4c17-e2d7-49e18dbea5ba",
        "colab": {
          "base_uri": "https://localhost:8080/"
        }
      },
      "source": [
        "knnfork = np.zeros((3,1))\n",
        "k = [1,2,3]\n",
        "for i in range(3):\n",
        "  knnfork[i,0]= knn(50,k[i], ntrain_data, ntest_data, train_labels, test_labels)\n",
        "for i in range(3):\n",
        "  temp = 'Correctness of KNN for norm:'+str(k[i])+' and k = 50 is; ' +str( knnfork[i]) + '%' +'\\n'\n",
        "  print(temp)"
      ],
      "execution_count": 20,
      "outputs": [
        {
          "output_type": "stream",
          "text": [
            "Correctness of KNN for norm:1 and k = 50 is; [62.28571429]%\n",
            "\n",
            "Correctness of KNN for norm:2 and k = 50 is; [43.62857143]%\n",
            "\n",
            "Correctness of KNN for norm:3 and k = 50 is; [64.17142857]%\n",
            "\n"
          ],
          "name": "stdout"
        }
      ]
    }
  ]
}